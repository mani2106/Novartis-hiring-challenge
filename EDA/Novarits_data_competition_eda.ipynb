{
  "nbformat": 4,
  "nbformat_minor": 0,
  "metadata": {
    "colab": {
      "name": "Novarits data competition eda.ipynb",
      "provenance": []
    },
    "kernelspec": {
      "name": "python3",
      "display_name": "Python 3"
    }
  },
  "cells": [
    {
      "cell_type": "markdown",
      "metadata": {
        "id": "qR2zERyblg4v",
        "colab_type": "text"
      },
      "source": [
        "# Download data and have a quick look"
      ]
    },
    {
      "cell_type": "code",
      "metadata": {
        "id": "eCEweBqDQlnO",
        "colab_type": "code",
        "outputId": "fb5ad7c1-e1a6-48a2-bfe3-3846d8be8812",
        "colab": {
          "base_uri": "https://localhost:8080/",
          "height": 104
        }
      },
      "source": [
        "!unzip data.zip"
      ],
      "execution_count": 5,
      "outputs": [
        {
          "output_type": "stream",
          "text": [
            "Archive:  data.zip\n",
            "   creating: Dataset/\n",
            "  inflating: Dataset/Train.csv       \n",
            "  inflating: Dataset/sample_submission.csv  \n",
            "  inflating: Dataset/Test.csv        \n"
          ],
          "name": "stdout"
        }
      ]
    },
    {
      "cell_type": "code",
      "metadata": {
        "id": "zJ0G660IQ_T4",
        "colab_type": "code",
        "outputId": "ab310428-dd6b-4daf-aefe-427cfe7a9cc5",
        "colab": {
          "base_uri": "https://localhost:8080/",
          "height": 233
        }
      },
      "source": [
        "import pandas as pd\n",
        "from pathlib import Path\n",
        "\n",
        "DATA_PATH = Path('/content/Dataset')\n",
        "\n",
        "train_data = pd.read_csv(DATA_PATH/'Train.csv', index_col=0, infer_datetime_format=True, converters={'DATE':pd.to_datetime})\n",
        "train_data.head()"
      ],
      "execution_count": 6,
      "outputs": [
        {
          "output_type": "execute_result",
          "data": {
            "text/html": [
              "<div>\n",
              "<style scoped>\n",
              "    .dataframe tbody tr th:only-of-type {\n",
              "        vertical-align: middle;\n",
              "    }\n",
              "\n",
              "    .dataframe tbody tr th {\n",
              "        vertical-align: top;\n",
              "    }\n",
              "\n",
              "    .dataframe thead th {\n",
              "        text-align: right;\n",
              "    }\n",
              "</style>\n",
              "<table border=\"1\" class=\"dataframe\">\n",
              "  <thead>\n",
              "    <tr style=\"text-align: right;\">\n",
              "      <th></th>\n",
              "      <th>DATE</th>\n",
              "      <th>X_1</th>\n",
              "      <th>X_2</th>\n",
              "      <th>X_3</th>\n",
              "      <th>X_4</th>\n",
              "      <th>X_5</th>\n",
              "      <th>X_6</th>\n",
              "      <th>X_7</th>\n",
              "      <th>X_8</th>\n",
              "      <th>X_9</th>\n",
              "      <th>X_10</th>\n",
              "      <th>X_11</th>\n",
              "      <th>X_12</th>\n",
              "      <th>X_13</th>\n",
              "      <th>X_14</th>\n",
              "      <th>X_15</th>\n",
              "      <th>MULTIPLE_OFFENSE</th>\n",
              "    </tr>\n",
              "    <tr>\n",
              "      <th>INCIDENT_ID</th>\n",
              "      <th></th>\n",
              "      <th></th>\n",
              "      <th></th>\n",
              "      <th></th>\n",
              "      <th></th>\n",
              "      <th></th>\n",
              "      <th></th>\n",
              "      <th></th>\n",
              "      <th></th>\n",
              "      <th></th>\n",
              "      <th></th>\n",
              "      <th></th>\n",
              "      <th></th>\n",
              "      <th></th>\n",
              "      <th></th>\n",
              "      <th></th>\n",
              "      <th></th>\n",
              "    </tr>\n",
              "  </thead>\n",
              "  <tbody>\n",
              "    <tr>\n",
              "      <th>CR_102659</th>\n",
              "      <td>2004-07-04</td>\n",
              "      <td>0</td>\n",
              "      <td>36</td>\n",
              "      <td>34</td>\n",
              "      <td>2</td>\n",
              "      <td>1</td>\n",
              "      <td>5</td>\n",
              "      <td>6</td>\n",
              "      <td>1</td>\n",
              "      <td>6</td>\n",
              "      <td>1</td>\n",
              "      <td>174</td>\n",
              "      <td>1.0</td>\n",
              "      <td>92</td>\n",
              "      <td>29</td>\n",
              "      <td>36</td>\n",
              "      <td>0</td>\n",
              "    </tr>\n",
              "    <tr>\n",
              "      <th>CR_189752</th>\n",
              "      <td>2017-07-18</td>\n",
              "      <td>1</td>\n",
              "      <td>37</td>\n",
              "      <td>37</td>\n",
              "      <td>0</td>\n",
              "      <td>0</td>\n",
              "      <td>11</td>\n",
              "      <td>17</td>\n",
              "      <td>1</td>\n",
              "      <td>6</td>\n",
              "      <td>1</td>\n",
              "      <td>236</td>\n",
              "      <td>1.0</td>\n",
              "      <td>103</td>\n",
              "      <td>142</td>\n",
              "      <td>34</td>\n",
              "      <td>1</td>\n",
              "    </tr>\n",
              "    <tr>\n",
              "      <th>CR_184637</th>\n",
              "      <td>2017-03-15</td>\n",
              "      <td>0</td>\n",
              "      <td>3</td>\n",
              "      <td>2</td>\n",
              "      <td>3</td>\n",
              "      <td>5</td>\n",
              "      <td>1</td>\n",
              "      <td>0</td>\n",
              "      <td>2</td>\n",
              "      <td>3</td>\n",
              "      <td>1</td>\n",
              "      <td>174</td>\n",
              "      <td>1.0</td>\n",
              "      <td>110</td>\n",
              "      <td>93</td>\n",
              "      <td>34</td>\n",
              "      <td>1</td>\n",
              "    </tr>\n",
              "    <tr>\n",
              "      <th>CR_139071</th>\n",
              "      <td>2009-02-13</td>\n",
              "      <td>0</td>\n",
              "      <td>33</td>\n",
              "      <td>32</td>\n",
              "      <td>2</td>\n",
              "      <td>1</td>\n",
              "      <td>7</td>\n",
              "      <td>1</td>\n",
              "      <td>1</td>\n",
              "      <td>6</td>\n",
              "      <td>1</td>\n",
              "      <td>249</td>\n",
              "      <td>1.0</td>\n",
              "      <td>72</td>\n",
              "      <td>29</td>\n",
              "      <td>34</td>\n",
              "      <td>1</td>\n",
              "    </tr>\n",
              "    <tr>\n",
              "      <th>CR_109335</th>\n",
              "      <td>2005-04-13</td>\n",
              "      <td>0</td>\n",
              "      <td>33</td>\n",
              "      <td>32</td>\n",
              "      <td>2</td>\n",
              "      <td>1</td>\n",
              "      <td>8</td>\n",
              "      <td>3</td>\n",
              "      <td>0</td>\n",
              "      <td>5</td>\n",
              "      <td>1</td>\n",
              "      <td>174</td>\n",
              "      <td>0.0</td>\n",
              "      <td>112</td>\n",
              "      <td>29</td>\n",
              "      <td>43</td>\n",
              "      <td>1</td>\n",
              "    </tr>\n",
              "  </tbody>\n",
              "</table>\n",
              "</div>"
            ],
            "text/plain": [
              "                  DATE  X_1  X_2  X_3  ...  X_13  X_14  X_15  MULTIPLE_OFFENSE\n",
              "INCIDENT_ID                            ...                                    \n",
              "CR_102659   2004-07-04    0   36   34  ...    92    29    36                 0\n",
              "CR_189752   2017-07-18    1   37   37  ...   103   142    34                 1\n",
              "CR_184637   2017-03-15    0    3    2  ...   110    93    34                 1\n",
              "CR_139071   2009-02-13    0   33   32  ...    72    29    34                 1\n",
              "CR_109335   2005-04-13    0   33   32  ...   112    29    43                 1\n",
              "\n",
              "[5 rows x 17 columns]"
            ]
          },
          "metadata": {
            "tags": []
          },
          "execution_count": 6
        }
      ]
    },
    {
      "cell_type": "markdown",
      "metadata": {
        "id": "HUas52IG7MHD",
        "colab_type": "text"
      },
      "source": [
        "Since there are no named features we cannot do some domain specific feature engineering."
      ]
    },
    {
      "cell_type": "code",
      "metadata": {
        "id": "2TOoufGeRQoM",
        "colab_type": "code",
        "outputId": "4bbda672-2a58-4e3a-f527-ccabfa272f74",
        "colab": {
          "base_uri": "https://localhost:8080/",
          "height": 433
        }
      },
      "source": [
        "train_data.info()"
      ],
      "execution_count": 0,
      "outputs": [
        {
          "output_type": "stream",
          "text": [
            "<class 'pandas.core.frame.DataFrame'>\n",
            "Index: 23856 entries, CR_102659 to CR_22575\n",
            "Data columns (total 17 columns):\n",
            " #   Column            Non-Null Count  Dtype         \n",
            "---  ------            --------------  -----         \n",
            " 0   DATE              23856 non-null  datetime64[ns]\n",
            " 1   X_1               23856 non-null  int64         \n",
            " 2   X_2               23856 non-null  int64         \n",
            " 3   X_3               23856 non-null  int64         \n",
            " 4   X_4               23856 non-null  int64         \n",
            " 5   X_5               23856 non-null  int64         \n",
            " 6   X_6               23856 non-null  int64         \n",
            " 7   X_7               23856 non-null  int64         \n",
            " 8   X_8               23856 non-null  int64         \n",
            " 9   X_9               23856 non-null  int64         \n",
            " 10  X_10              23856 non-null  int64         \n",
            " 11  X_11              23856 non-null  int64         \n",
            " 12  X_12              23674 non-null  float64       \n",
            " 13  X_13              23856 non-null  int64         \n",
            " 14  X_14              23856 non-null  int64         \n",
            " 15  X_15              23856 non-null  int64         \n",
            " 16  MULTIPLE_OFFENSE  23856 non-null  int64         \n",
            "dtypes: datetime64[ns](1), float64(1), int64(15)\n",
            "memory usage: 3.3+ MB\n"
          ],
          "name": "stdout"
        }
      ]
    },
    {
      "cell_type": "markdown",
      "metadata": {
        "id": "RaSoIJIq7aBC",
        "colab_type": "text"
      },
      "source": [
        "There are some null or nan values in `X_12`"
      ]
    },
    {
      "cell_type": "markdown",
      "metadata": {
        "id": "K6Xm3XIVlmJT",
        "colab_type": "text"
      },
      "source": [
        "# Correlation of variables"
      ]
    },
    {
      "cell_type": "code",
      "metadata": {
        "id": "2aRadIQLS5Rg",
        "colab_type": "code",
        "outputId": "998b9295-890b-4d08-ae15-4094fcf9b03b",
        "colab": {
          "base_uri": "https://localhost:8080/",
          "height": 336
        }
      },
      "source": [
        "corr = train_data.corr()\n",
        "corr.style.background_gradient(cmap='coolwarm')"
      ],
      "execution_count": 0,
      "outputs": [
        {
          "output_type": "execute_result",
          "data": {
            "text/html": [
              "<style  type=\"text/css\" >\n",
              "    #T_acb7afd4_adf0_11ea_af1f_0242ac1c0002row0_col0 {\n",
              "            background-color:  #b40426;\n",
              "            color:  #f1f1f1;\n",
              "        }    #T_acb7afd4_adf0_11ea_af1f_0242ac1c0002row0_col1 {\n",
              "            background-color:  #96b7ff;\n",
              "            color:  #000000;\n",
              "        }    #T_acb7afd4_adf0_11ea_af1f_0242ac1c0002row0_col2 {\n",
              "            background-color:  #96b7ff;\n",
              "            color:  #000000;\n",
              "        }    #T_acb7afd4_adf0_11ea_af1f_0242ac1c0002row0_col3 {\n",
              "            background-color:  #5875e1;\n",
              "            color:  #000000;\n",
              "        }    #T_acb7afd4_adf0_11ea_af1f_0242ac1c0002row0_col4 {\n",
              "            background-color:  #86a9fc;\n",
              "            color:  #000000;\n",
              "        }    #T_acb7afd4_adf0_11ea_af1f_0242ac1c0002row0_col5 {\n",
              "            background-color:  #cdd9ec;\n",
              "            color:  #000000;\n",
              "        }    #T_acb7afd4_adf0_11ea_af1f_0242ac1c0002row0_col6 {\n",
              "            background-color:  #c9d7f0;\n",
              "            color:  #000000;\n",
              "        }    #T_acb7afd4_adf0_11ea_af1f_0242ac1c0002row0_col7 {\n",
              "            background-color:  #4257c9;\n",
              "            color:  #f1f1f1;\n",
              "        }    #T_acb7afd4_adf0_11ea_af1f_0242ac1c0002row0_col8 {\n",
              "            background-color:  #8badfd;\n",
              "            color:  #000000;\n",
              "        }    #T_acb7afd4_adf0_11ea_af1f_0242ac1c0002row0_col9 {\n",
              "            background-color:  #7a9df8;\n",
              "            color:  #000000;\n",
              "        }    #T_acb7afd4_adf0_11ea_af1f_0242ac1c0002row0_col10 {\n",
              "            background-color:  #465ecf;\n",
              "            color:  #f1f1f1;\n",
              "        }    #T_acb7afd4_adf0_11ea_af1f_0242ac1c0002row0_col11 {\n",
              "            background-color:  #4f69d9;\n",
              "            color:  #000000;\n",
              "        }    #T_acb7afd4_adf0_11ea_af1f_0242ac1c0002row0_col12 {\n",
              "            background-color:  #7093f3;\n",
              "            color:  #000000;\n",
              "        }    #T_acb7afd4_adf0_11ea_af1f_0242ac1c0002row0_col13 {\n",
              "            background-color:  #82a6fb;\n",
              "            color:  #000000;\n",
              "        }    #T_acb7afd4_adf0_11ea_af1f_0242ac1c0002row0_col14 {\n",
              "            background-color:  #4055c8;\n",
              "            color:  #f1f1f1;\n",
              "        }    #T_acb7afd4_adf0_11ea_af1f_0242ac1c0002row0_col15 {\n",
              "            background-color:  #7da0f9;\n",
              "            color:  #000000;\n",
              "        }    #T_acb7afd4_adf0_11ea_af1f_0242ac1c0002row1_col0 {\n",
              "            background-color:  #536edd;\n",
              "            color:  #000000;\n",
              "        }    #T_acb7afd4_adf0_11ea_af1f_0242ac1c0002row1_col1 {\n",
              "            background-color:  #b40426;\n",
              "            color:  #f1f1f1;\n",
              "        }    #T_acb7afd4_adf0_11ea_af1f_0242ac1c0002row1_col2 {\n",
              "            background-color:  #b40426;\n",
              "            color:  #f1f1f1;\n",
              "        }    #T_acb7afd4_adf0_11ea_af1f_0242ac1c0002row1_col3 {\n",
              "            background-color:  #3b4cc0;\n",
              "            color:  #f1f1f1;\n",
              "        }    #T_acb7afd4_adf0_11ea_af1f_0242ac1c0002row1_col4 {\n",
              "            background-color:  #3b4cc0;\n",
              "            color:  #f1f1f1;\n",
              "        }    #T_acb7afd4_adf0_11ea_af1f_0242ac1c0002row1_col5 {\n",
              "            background-color:  #7295f4;\n",
              "            color:  #000000;\n",
              "        }    #T_acb7afd4_adf0_11ea_af1f_0242ac1c0002row1_col6 {\n",
              "            background-color:  #4f69d9;\n",
              "            color:  #000000;\n",
              "        }    #T_acb7afd4_adf0_11ea_af1f_0242ac1c0002row1_col7 {\n",
              "            background-color:  #4961d2;\n",
              "            color:  #f1f1f1;\n",
              "        }    #T_acb7afd4_adf0_11ea_af1f_0242ac1c0002row1_col8 {\n",
              "            background-color:  #81a4fb;\n",
              "            color:  #000000;\n",
              "        }    #T_acb7afd4_adf0_11ea_af1f_0242ac1c0002row1_col9 {\n",
              "            background-color:  #7597f6;\n",
              "            color:  #000000;\n",
              "        }    #T_acb7afd4_adf0_11ea_af1f_0242ac1c0002row1_col10 {\n",
              "            background-color:  #536edd;\n",
              "            color:  #000000;\n",
              "        }    #T_acb7afd4_adf0_11ea_af1f_0242ac1c0002row1_col11 {\n",
              "            background-color:  #465ecf;\n",
              "            color:  #f1f1f1;\n",
              "        }    #T_acb7afd4_adf0_11ea_af1f_0242ac1c0002row1_col12 {\n",
              "            background-color:  #5d7ce6;\n",
              "            color:  #000000;\n",
              "        }    #T_acb7afd4_adf0_11ea_af1f_0242ac1c0002row1_col13 {\n",
              "            background-color:  #89acfd;\n",
              "            color:  #000000;\n",
              "        }    #T_acb7afd4_adf0_11ea_af1f_0242ac1c0002row1_col14 {\n",
              "            background-color:  #4961d2;\n",
              "            color:  #f1f1f1;\n",
              "        }    #T_acb7afd4_adf0_11ea_af1f_0242ac1c0002row1_col15 {\n",
              "            background-color:  #7295f4;\n",
              "            color:  #000000;\n",
              "        }    #T_acb7afd4_adf0_11ea_af1f_0242ac1c0002row2_col0 {\n",
              "            background-color:  #536edd;\n",
              "            color:  #000000;\n",
              "        }    #T_acb7afd4_adf0_11ea_af1f_0242ac1c0002row2_col1 {\n",
              "            background-color:  #b40426;\n",
              "            color:  #f1f1f1;\n",
              "        }    #T_acb7afd4_adf0_11ea_af1f_0242ac1c0002row2_col2 {\n",
              "            background-color:  #b40426;\n",
              "            color:  #f1f1f1;\n",
              "        }    #T_acb7afd4_adf0_11ea_af1f_0242ac1c0002row2_col3 {\n",
              "            background-color:  #4257c9;\n",
              "            color:  #f1f1f1;\n",
              "        }    #T_acb7afd4_adf0_11ea_af1f_0242ac1c0002row2_col4 {\n",
              "            background-color:  #3b4cc0;\n",
              "            color:  #f1f1f1;\n",
              "        }    #T_acb7afd4_adf0_11ea_af1f_0242ac1c0002row2_col5 {\n",
              "            background-color:  #7396f5;\n",
              "            color:  #000000;\n",
              "        }    #T_acb7afd4_adf0_11ea_af1f_0242ac1c0002row2_col6 {\n",
              "            background-color:  #5470de;\n",
              "            color:  #000000;\n",
              "        }    #T_acb7afd4_adf0_11ea_af1f_0242ac1c0002row2_col7 {\n",
              "            background-color:  #4a63d3;\n",
              "            color:  #f1f1f1;\n",
              "        }    #T_acb7afd4_adf0_11ea_af1f_0242ac1c0002row2_col8 {\n",
              "            background-color:  #80a3fa;\n",
              "            color:  #000000;\n",
              "        }    #T_acb7afd4_adf0_11ea_af1f_0242ac1c0002row2_col9 {\n",
              "            background-color:  #7597f6;\n",
              "            color:  #000000;\n",
              "        }    #T_acb7afd4_adf0_11ea_af1f_0242ac1c0002row2_col10 {\n",
              "            background-color:  #536edd;\n",
              "            color:  #000000;\n",
              "        }    #T_acb7afd4_adf0_11ea_af1f_0242ac1c0002row2_col11 {\n",
              "            background-color:  #485fd1;\n",
              "            color:  #f1f1f1;\n",
              "        }    #T_acb7afd4_adf0_11ea_af1f_0242ac1c0002row2_col12 {\n",
              "            background-color:  #5b7ae5;\n",
              "            color:  #000000;\n",
              "        }    #T_acb7afd4_adf0_11ea_af1f_0242ac1c0002row2_col13 {\n",
              "            background-color:  #89acfd;\n",
              "            color:  #000000;\n",
              "        }    #T_acb7afd4_adf0_11ea_af1f_0242ac1c0002row2_col14 {\n",
              "            background-color:  #465ecf;\n",
              "            color:  #f1f1f1;\n",
              "        }    #T_acb7afd4_adf0_11ea_af1f_0242ac1c0002row2_col15 {\n",
              "            background-color:  #7295f4;\n",
              "            color:  #000000;\n",
              "        }    #T_acb7afd4_adf0_11ea_af1f_0242ac1c0002row3_col0 {\n",
              "            background-color:  #4c66d6;\n",
              "            color:  #000000;\n",
              "        }    #T_acb7afd4_adf0_11ea_af1f_0242ac1c0002row3_col1 {\n",
              "            background-color:  #7597f6;\n",
              "            color:  #000000;\n",
              "        }    #T_acb7afd4_adf0_11ea_af1f_0242ac1c0002row3_col2 {\n",
              "            background-color:  #7b9ff9;\n",
              "            color:  #000000;\n",
              "        }    #T_acb7afd4_adf0_11ea_af1f_0242ac1c0002row3_col3 {\n",
              "            background-color:  #b40426;\n",
              "            color:  #f1f1f1;\n",
              "        }    #T_acb7afd4_adf0_11ea_af1f_0242ac1c0002row3_col4 {\n",
              "            background-color:  #efcebd;\n",
              "            color:  #000000;\n",
              "        }    #T_acb7afd4_adf0_11ea_af1f_0242ac1c0002row3_col5 {\n",
              "            background-color:  #5572df;\n",
              "            color:  #000000;\n",
              "        }    #T_acb7afd4_adf0_11ea_af1f_0242ac1c0002row3_col6 {\n",
              "            background-color:  #5a78e4;\n",
              "            color:  #000000;\n",
              "        }    #T_acb7afd4_adf0_11ea_af1f_0242ac1c0002row3_col7 {\n",
              "            background-color:  #6a8bef;\n",
              "            color:  #000000;\n",
              "        }    #T_acb7afd4_adf0_11ea_af1f_0242ac1c0002row3_col8 {\n",
              "            background-color:  #82a6fb;\n",
              "            color:  #000000;\n",
              "        }    #T_acb7afd4_adf0_11ea_af1f_0242ac1c0002row3_col9 {\n",
              "            background-color:  #84a7fc;\n",
              "            color:  #000000;\n",
              "        }    #T_acb7afd4_adf0_11ea_af1f_0242ac1c0002row3_col10 {\n",
              "            background-color:  #3c4ec2;\n",
              "            color:  #f1f1f1;\n",
              "        }    #T_acb7afd4_adf0_11ea_af1f_0242ac1c0002row3_col11 {\n",
              "            background-color:  #6b8df0;\n",
              "            color:  #000000;\n",
              "        }    #T_acb7afd4_adf0_11ea_af1f_0242ac1c0002row3_col12 {\n",
              "            background-color:  #3f53c6;\n",
              "            color:  #f1f1f1;\n",
              "        }    #T_acb7afd4_adf0_11ea_af1f_0242ac1c0002row3_col13 {\n",
              "            background-color:  #7da0f9;\n",
              "            color:  #000000;\n",
              "        }    #T_acb7afd4_adf0_11ea_af1f_0242ac1c0002row3_col14 {\n",
              "            background-color:  #3b4cc0;\n",
              "            color:  #f1f1f1;\n",
              "        }    #T_acb7afd4_adf0_11ea_af1f_0242ac1c0002row3_col15 {\n",
              "            background-color:  #799cf8;\n",
              "            color:  #000000;\n",
              "        }    #T_acb7afd4_adf0_11ea_af1f_0242ac1c0002row4_col0 {\n",
              "            background-color:  #4257c9;\n",
              "            color:  #f1f1f1;\n",
              "        }    #T_acb7afd4_adf0_11ea_af1f_0242ac1c0002row4_col1 {\n",
              "            background-color:  #3b4cc0;\n",
              "            color:  #f1f1f1;\n",
              "        }    #T_acb7afd4_adf0_11ea_af1f_0242ac1c0002row4_col2 {\n",
              "            background-color:  #3b4cc0;\n",
              "            color:  #f1f1f1;\n",
              "        }    #T_acb7afd4_adf0_11ea_af1f_0242ac1c0002row4_col3 {\n",
              "            background-color:  #dbdcde;\n",
              "            color:  #000000;\n",
              "        }    #T_acb7afd4_adf0_11ea_af1f_0242ac1c0002row4_col4 {\n",
              "            background-color:  #b40426;\n",
              "            color:  #f1f1f1;\n",
              "        }    #T_acb7afd4_adf0_11ea_af1f_0242ac1c0002row4_col5 {\n",
              "            background-color:  #3b4cc0;\n",
              "            color:  #f1f1f1;\n",
              "        }    #T_acb7afd4_adf0_11ea_af1f_0242ac1c0002row4_col6 {\n",
              "            background-color:  #4055c8;\n",
              "            color:  #f1f1f1;\n",
              "        }    #T_acb7afd4_adf0_11ea_af1f_0242ac1c0002row4_col7 {\n",
              "            background-color:  #6282ea;\n",
              "            color:  #000000;\n",
              "        }    #T_acb7afd4_adf0_11ea_af1f_0242ac1c0002row4_col8 {\n",
              "            background-color:  #92b4fe;\n",
              "            color:  #000000;\n",
              "        }    #T_acb7afd4_adf0_11ea_af1f_0242ac1c0002row4_col9 {\n",
              "            background-color:  #86a9fc;\n",
              "            color:  #000000;\n",
              "        }    #T_acb7afd4_adf0_11ea_af1f_0242ac1c0002row4_col10 {\n",
              "            background-color:  #3b4cc0;\n",
              "            color:  #f1f1f1;\n",
              "        }    #T_acb7afd4_adf0_11ea_af1f_0242ac1c0002row4_col11 {\n",
              "            background-color:  #7295f4;\n",
              "            color:  #000000;\n",
              "        }    #T_acb7afd4_adf0_11ea_af1f_0242ac1c0002row4_col12 {\n",
              "            background-color:  #3b4cc0;\n",
              "            color:  #f1f1f1;\n",
              "        }    #T_acb7afd4_adf0_11ea_af1f_0242ac1c0002row4_col13 {\n",
              "            background-color:  #84a7fc;\n",
              "            color:  #000000;\n",
              "        }    #T_acb7afd4_adf0_11ea_af1f_0242ac1c0002row4_col14 {\n",
              "            background-color:  #3b4cc0;\n",
              "            color:  #f1f1f1;\n",
              "        }    #T_acb7afd4_adf0_11ea_af1f_0242ac1c0002row4_col15 {\n",
              "            background-color:  #799cf8;\n",
              "            color:  #000000;\n",
              "        }    #T_acb7afd4_adf0_11ea_af1f_0242ac1c0002row5_col0 {\n",
              "            background-color:  #cdd9ec;\n",
              "            color:  #000000;\n",
              "        }    #T_acb7afd4_adf0_11ea_af1f_0242ac1c0002row5_col1 {\n",
              "            background-color:  #aec9fc;\n",
              "            color:  #000000;\n",
              "        }    #T_acb7afd4_adf0_11ea_af1f_0242ac1c0002row5_col2 {\n",
              "            background-color:  #afcafc;\n",
              "            color:  #000000;\n",
              "        }    #T_acb7afd4_adf0_11ea_af1f_0242ac1c0002row5_col3 {\n",
              "            background-color:  #5f7fe8;\n",
              "            color:  #000000;\n",
              "        }    #T_acb7afd4_adf0_11ea_af1f_0242ac1c0002row5_col4 {\n",
              "            background-color:  #80a3fa;\n",
              "            color:  #000000;\n",
              "        }    #T_acb7afd4_adf0_11ea_af1f_0242ac1c0002row5_col5 {\n",
              "            background-color:  #b40426;\n",
              "            color:  #f1f1f1;\n",
              "        }    #T_acb7afd4_adf0_11ea_af1f_0242ac1c0002row5_col6 {\n",
              "            background-color:  #f7ad90;\n",
              "            color:  #000000;\n",
              "        }    #T_acb7afd4_adf0_11ea_af1f_0242ac1c0002row5_col7 {\n",
              "            background-color:  #4257c9;\n",
              "            color:  #f1f1f1;\n",
              "        }    #T_acb7afd4_adf0_11ea_af1f_0242ac1c0002row5_col8 {\n",
              "            background-color:  #9bbcff;\n",
              "            color:  #000000;\n",
              "        }    #T_acb7afd4_adf0_11ea_af1f_0242ac1c0002row5_col9 {\n",
              "            background-color:  #80a3fa;\n",
              "            color:  #000000;\n",
              "        }    #T_acb7afd4_adf0_11ea_af1f_0242ac1c0002row5_col10 {\n",
              "            background-color:  #465ecf;\n",
              "            color:  #f1f1f1;\n",
              "        }    #T_acb7afd4_adf0_11ea_af1f_0242ac1c0002row5_col11 {\n",
              "            background-color:  #506bda;\n",
              "            color:  #000000;\n",
              "        }    #T_acb7afd4_adf0_11ea_af1f_0242ac1c0002row5_col12 {\n",
              "            background-color:  #5d7ce6;\n",
              "            color:  #000000;\n",
              "        }    #T_acb7afd4_adf0_11ea_af1f_0242ac1c0002row5_col13 {\n",
              "            background-color:  #82a6fb;\n",
              "            color:  #000000;\n",
              "        }    #T_acb7afd4_adf0_11ea_af1f_0242ac1c0002row5_col14 {\n",
              "            background-color:  #4358cb;\n",
              "            color:  #f1f1f1;\n",
              "        }    #T_acb7afd4_adf0_11ea_af1f_0242ac1c0002row5_col15 {\n",
              "            background-color:  #779af7;\n",
              "            color:  #000000;\n",
              "        }    #T_acb7afd4_adf0_11ea_af1f_0242ac1c0002row6_col0 {\n",
              "            background-color:  #d1dae9;\n",
              "            color:  #000000;\n",
              "        }    #T_acb7afd4_adf0_11ea_af1f_0242ac1c0002row6_col1 {\n",
              "            background-color:  #9fbfff;\n",
              "            color:  #000000;\n",
              "        }    #T_acb7afd4_adf0_11ea_af1f_0242ac1c0002row6_col2 {\n",
              "            background-color:  #a2c1ff;\n",
              "            color:  #000000;\n",
              "        }    #T_acb7afd4_adf0_11ea_af1f_0242ac1c0002row6_col3 {\n",
              "            background-color:  #7396f5;\n",
              "            color:  #000000;\n",
              "        }    #T_acb7afd4_adf0_11ea_af1f_0242ac1c0002row6_col4 {\n",
              "            background-color:  #93b5fe;\n",
              "            color:  #000000;\n",
              "        }    #T_acb7afd4_adf0_11ea_af1f_0242ac1c0002row6_col5 {\n",
              "            background-color:  #f7a889;\n",
              "            color:  #000000;\n",
              "        }    #T_acb7afd4_adf0_11ea_af1f_0242ac1c0002row6_col6 {\n",
              "            background-color:  #b40426;\n",
              "            color:  #f1f1f1;\n",
              "        }    #T_acb7afd4_adf0_11ea_af1f_0242ac1c0002row6_col7 {\n",
              "            background-color:  #506bda;\n",
              "            color:  #000000;\n",
              "        }    #T_acb7afd4_adf0_11ea_af1f_0242ac1c0002row6_col8 {\n",
              "            background-color:  #88abfd;\n",
              "            color:  #000000;\n",
              "        }    #T_acb7afd4_adf0_11ea_af1f_0242ac1c0002row6_col9 {\n",
              "            background-color:  #80a3fa;\n",
              "            color:  #000000;\n",
              "        }    #T_acb7afd4_adf0_11ea_af1f_0242ac1c0002row6_col10 {\n",
              "            background-color:  #485fd1;\n",
              "            color:  #f1f1f1;\n",
              "        }    #T_acb7afd4_adf0_11ea_af1f_0242ac1c0002row6_col11 {\n",
              "            background-color:  #5977e3;\n",
              "            color:  #000000;\n",
              "        }    #T_acb7afd4_adf0_11ea_af1f_0242ac1c0002row6_col12 {\n",
              "            background-color:  #516ddb;\n",
              "            color:  #000000;\n",
              "        }    #T_acb7afd4_adf0_11ea_af1f_0242ac1c0002row6_col13 {\n",
              "            background-color:  #86a9fc;\n",
              "            color:  #000000;\n",
              "        }    #T_acb7afd4_adf0_11ea_af1f_0242ac1c0002row6_col14 {\n",
              "            background-color:  #445acc;\n",
              "            color:  #f1f1f1;\n",
              "        }    #T_acb7afd4_adf0_11ea_af1f_0242ac1c0002row6_col15 {\n",
              "            background-color:  #779af7;\n",
              "            color:  #000000;\n",
              "        }    #T_acb7afd4_adf0_11ea_af1f_0242ac1c0002row7_col0 {\n",
              "            background-color:  #3b4cc0;\n",
              "            color:  #f1f1f1;\n",
              "        }    #T_acb7afd4_adf0_11ea_af1f_0242ac1c0002row7_col1 {\n",
              "            background-color:  #86a9fc;\n",
              "            color:  #000000;\n",
              "        }    #T_acb7afd4_adf0_11ea_af1f_0242ac1c0002row7_col2 {\n",
              "            background-color:  #86a9fc;\n",
              "            color:  #000000;\n",
              "        }    #T_acb7afd4_adf0_11ea_af1f_0242ac1c0002row7_col3 {\n",
              "            background-color:  #6e90f2;\n",
              "            color:  #000000;\n",
              "        }    #T_acb7afd4_adf0_11ea_af1f_0242ac1c0002row7_col4 {\n",
              "            background-color:  #9dbdff;\n",
              "            color:  #000000;\n",
              "        }    #T_acb7afd4_adf0_11ea_af1f_0242ac1c0002row7_col5 {\n",
              "            background-color:  #3b4cc0;\n",
              "            color:  #f1f1f1;\n",
              "        }    #T_acb7afd4_adf0_11ea_af1f_0242ac1c0002row7_col6 {\n",
              "            background-color:  #3b4cc0;\n",
              "            color:  #f1f1f1;\n",
              "        }    #T_acb7afd4_adf0_11ea_af1f_0242ac1c0002row7_col7 {\n",
              "            background-color:  #b40426;\n",
              "            color:  #f1f1f1;\n",
              "        }    #T_acb7afd4_adf0_11ea_af1f_0242ac1c0002row7_col8 {\n",
              "            background-color:  #6c8ff1;\n",
              "            color:  #000000;\n",
              "        }    #T_acb7afd4_adf0_11ea_af1f_0242ac1c0002row7_col9 {\n",
              "            background-color:  #b7cff9;\n",
              "            color:  #000000;\n",
              "        }    #T_acb7afd4_adf0_11ea_af1f_0242ac1c0002row7_col10 {\n",
              "            background-color:  #4a63d3;\n",
              "            color:  #f1f1f1;\n",
              "        }    #T_acb7afd4_adf0_11ea_af1f_0242ac1c0002row7_col11 {\n",
              "            background-color:  #aec9fc;\n",
              "            color:  #000000;\n",
              "        }    #T_acb7afd4_adf0_11ea_af1f_0242ac1c0002row7_col12 {\n",
              "            background-color:  #4055c8;\n",
              "            color:  #f1f1f1;\n",
              "        }    #T_acb7afd4_adf0_11ea_af1f_0242ac1c0002row7_col13 {\n",
              "            background-color:  #86a9fc;\n",
              "            color:  #000000;\n",
              "        }    #T_acb7afd4_adf0_11ea_af1f_0242ac1c0002row7_col14 {\n",
              "            background-color:  #4a63d3;\n",
              "            color:  #f1f1f1;\n",
              "        }    #T_acb7afd4_adf0_11ea_af1f_0242ac1c0002row7_col15 {\n",
              "            background-color:  #7093f3;\n",
              "            color:  #000000;\n",
              "        }    #T_acb7afd4_adf0_11ea_af1f_0242ac1c0002row8_col0 {\n",
              "            background-color:  #516ddb;\n",
              "            color:  #000000;\n",
              "        }    #T_acb7afd4_adf0_11ea_af1f_0242ac1c0002row8_col1 {\n",
              "            background-color:  #8badfd;\n",
              "            color:  #000000;\n",
              "        }    #T_acb7afd4_adf0_11ea_af1f_0242ac1c0002row8_col2 {\n",
              "            background-color:  #8badfd;\n",
              "            color:  #000000;\n",
              "        }    #T_acb7afd4_adf0_11ea_af1f_0242ac1c0002row8_col3 {\n",
              "            background-color:  #5572df;\n",
              "            color:  #000000;\n",
              "        }    #T_acb7afd4_adf0_11ea_af1f_0242ac1c0002row8_col4 {\n",
              "            background-color:  #9dbdff;\n",
              "            color:  #000000;\n",
              "        }    #T_acb7afd4_adf0_11ea_af1f_0242ac1c0002row8_col5 {\n",
              "            background-color:  #6485ec;\n",
              "            color:  #000000;\n",
              "        }    #T_acb7afd4_adf0_11ea_af1f_0242ac1c0002row8_col6 {\n",
              "            background-color:  #4055c8;\n",
              "            color:  #f1f1f1;\n",
              "        }    #T_acb7afd4_adf0_11ea_af1f_0242ac1c0002row8_col7 {\n",
              "            background-color:  #3b4cc0;\n",
              "            color:  #f1f1f1;\n",
              "        }    #T_acb7afd4_adf0_11ea_af1f_0242ac1c0002row8_col8 {\n",
              "            background-color:  #b40426;\n",
              "            color:  #f1f1f1;\n",
              "        }    #T_acb7afd4_adf0_11ea_af1f_0242ac1c0002row8_col9 {\n",
              "            background-color:  #7da0f9;\n",
              "            color:  #000000;\n",
              "        }    #T_acb7afd4_adf0_11ea_af1f_0242ac1c0002row8_col10 {\n",
              "            background-color:  #455cce;\n",
              "            color:  #f1f1f1;\n",
              "        }    #T_acb7afd4_adf0_11ea_af1f_0242ac1c0002row8_col11 {\n",
              "            background-color:  #5b7ae5;\n",
              "            color:  #000000;\n",
              "        }    #T_acb7afd4_adf0_11ea_af1f_0242ac1c0002row8_col12 {\n",
              "            background-color:  #5572df;\n",
              "            color:  #000000;\n",
              "        }    #T_acb7afd4_adf0_11ea_af1f_0242ac1c0002row8_col13 {\n",
              "            background-color:  #3b4cc0;\n",
              "            color:  #f1f1f1;\n",
              "        }    #T_acb7afd4_adf0_11ea_af1f_0242ac1c0002row8_col14 {\n",
              "            background-color:  #465ecf;\n",
              "            color:  #f1f1f1;\n",
              "        }    #T_acb7afd4_adf0_11ea_af1f_0242ac1c0002row8_col15 {\n",
              "            background-color:  #799cf8;\n",
              "            color:  #000000;\n",
              "        }    #T_acb7afd4_adf0_11ea_af1f_0242ac1c0002row9_col0 {\n",
              "            background-color:  #4c66d6;\n",
              "            color:  #000000;\n",
              "        }    #T_acb7afd4_adf0_11ea_af1f_0242ac1c0002row9_col1 {\n",
              "            background-color:  #8caffe;\n",
              "            color:  #000000;\n",
              "        }    #T_acb7afd4_adf0_11ea_af1f_0242ac1c0002row9_col2 {\n",
              "            background-color:  #8caffe;\n",
              "            color:  #000000;\n",
              "        }    #T_acb7afd4_adf0_11ea_af1f_0242ac1c0002row9_col3 {\n",
              "            background-color:  #6384eb;\n",
              "            color:  #000000;\n",
              "        }    #T_acb7afd4_adf0_11ea_af1f_0242ac1c0002row9_col4 {\n",
              "            background-color:  #9dbdff;\n",
              "            color:  #000000;\n",
              "        }    #T_acb7afd4_adf0_11ea_af1f_0242ac1c0002row9_col5 {\n",
              "            background-color:  #536edd;\n",
              "            color:  #000000;\n",
              "        }    #T_acb7afd4_adf0_11ea_af1f_0242ac1c0002row9_col6 {\n",
              "            background-color:  #445acc;\n",
              "            color:  #f1f1f1;\n",
              "        }    #T_acb7afd4_adf0_11ea_af1f_0242ac1c0002row9_col7 {\n",
              "            background-color:  #9abbff;\n",
              "            color:  #000000;\n",
              "        }    #T_acb7afd4_adf0_11ea_af1f_0242ac1c0002row9_col8 {\n",
              "            background-color:  #89acfd;\n",
              "            color:  #000000;\n",
              "        }    #T_acb7afd4_adf0_11ea_af1f_0242ac1c0002row9_col9 {\n",
              "            background-color:  #b40426;\n",
              "            color:  #f1f1f1;\n",
              "        }    #T_acb7afd4_adf0_11ea_af1f_0242ac1c0002row9_col10 {\n",
              "            background-color:  #3b4cc0;\n",
              "            color:  #f1f1f1;\n",
              "        }    #T_acb7afd4_adf0_11ea_af1f_0242ac1c0002row9_col11 {\n",
              "            background-color:  #d95847;\n",
              "            color:  #000000;\n",
              "        }    #T_acb7afd4_adf0_11ea_af1f_0242ac1c0002row9_col12 {\n",
              "            background-color:  #4f69d9;\n",
              "            color:  #000000;\n",
              "        }    #T_acb7afd4_adf0_11ea_af1f_0242ac1c0002row9_col13 {\n",
              "            background-color:  #81a4fb;\n",
              "            color:  #000000;\n",
              "        }    #T_acb7afd4_adf0_11ea_af1f_0242ac1c0002row9_col14 {\n",
              "            background-color:  #445acc;\n",
              "            color:  #f1f1f1;\n",
              "        }    #T_acb7afd4_adf0_11ea_af1f_0242ac1c0002row9_col15 {\n",
              "            background-color:  #3b4cc0;\n",
              "            color:  #f1f1f1;\n",
              "        }    #T_acb7afd4_adf0_11ea_af1f_0242ac1c0002row10_col0 {\n",
              "            background-color:  #4b64d5;\n",
              "            color:  #f1f1f1;\n",
              "        }    #T_acb7afd4_adf0_11ea_af1f_0242ac1c0002row10_col1 {\n",
              "            background-color:  #9abbff;\n",
              "            color:  #000000;\n",
              "        }    #T_acb7afd4_adf0_11ea_af1f_0242ac1c0002row10_col2 {\n",
              "            background-color:  #9abbff;\n",
              "            color:  #000000;\n",
              "        }    #T_acb7afd4_adf0_11ea_af1f_0242ac1c0002row10_col3 {\n",
              "            background-color:  #4c66d6;\n",
              "            color:  #000000;\n",
              "        }    #T_acb7afd4_adf0_11ea_af1f_0242ac1c0002row10_col4 {\n",
              "            background-color:  #85a8fc;\n",
              "            color:  #000000;\n",
              "        }    #T_acb7afd4_adf0_11ea_af1f_0242ac1c0002row10_col5 {\n",
              "            background-color:  #4b64d5;\n",
              "            color:  #f1f1f1;\n",
              "        }    #T_acb7afd4_adf0_11ea_af1f_0242ac1c0002row10_col6 {\n",
              "            background-color:  #3e51c5;\n",
              "            color:  #f1f1f1;\n",
              "        }    #T_acb7afd4_adf0_11ea_af1f_0242ac1c0002row10_col7 {\n",
              "            background-color:  #5673e0;\n",
              "            color:  #000000;\n",
              "        }    #T_acb7afd4_adf0_11ea_af1f_0242ac1c0002row10_col8 {\n",
              "            background-color:  #84a7fc;\n",
              "            color:  #000000;\n",
              "        }    #T_acb7afd4_adf0_11ea_af1f_0242ac1c0002row10_col9 {\n",
              "            background-color:  #6c8ff1;\n",
              "            color:  #000000;\n",
              "        }    #T_acb7afd4_adf0_11ea_af1f_0242ac1c0002row10_col10 {\n",
              "            background-color:  #b40426;\n",
              "            color:  #f1f1f1;\n",
              "        }    #T_acb7afd4_adf0_11ea_af1f_0242ac1c0002row10_col11 {\n",
              "            background-color:  #6282ea;\n",
              "            color:  #000000;\n",
              "        }    #T_acb7afd4_adf0_11ea_af1f_0242ac1c0002row10_col12 {\n",
              "            background-color:  #5470de;\n",
              "            color:  #000000;\n",
              "        }    #T_acb7afd4_adf0_11ea_af1f_0242ac1c0002row10_col13 {\n",
              "            background-color:  #82a6fb;\n",
              "            color:  #000000;\n",
              "        }    #T_acb7afd4_adf0_11ea_af1f_0242ac1c0002row10_col14 {\n",
              "            background-color:  #4a63d3;\n",
              "            color:  #f1f1f1;\n",
              "        }    #T_acb7afd4_adf0_11ea_af1f_0242ac1c0002row10_col15 {\n",
              "            background-color:  #97b8ff;\n",
              "            color:  #000000;\n",
              "        }    #T_acb7afd4_adf0_11ea_af1f_0242ac1c0002row11_col0 {\n",
              "            background-color:  #4257c9;\n",
              "            color:  #f1f1f1;\n",
              "        }    #T_acb7afd4_adf0_11ea_af1f_0242ac1c0002row11_col1 {\n",
              "            background-color:  #7ea1fa;\n",
              "            color:  #000000;\n",
              "        }    #T_acb7afd4_adf0_11ea_af1f_0242ac1c0002row11_col2 {\n",
              "            background-color:  #7ea1fa;\n",
              "            color:  #000000;\n",
              "        }    #T_acb7afd4_adf0_11ea_af1f_0242ac1c0002row11_col3 {\n",
              "            background-color:  #688aef;\n",
              "            color:  #000000;\n",
              "        }    #T_acb7afd4_adf0_11ea_af1f_0242ac1c0002row11_col4 {\n",
              "            background-color:  #a5c3fe;\n",
              "            color:  #000000;\n",
              "        }    #T_acb7afd4_adf0_11ea_af1f_0242ac1c0002row11_col5 {\n",
              "            background-color:  #4358cb;\n",
              "            color:  #f1f1f1;\n",
              "        }    #T_acb7afd4_adf0_11ea_af1f_0242ac1c0002row11_col6 {\n",
              "            background-color:  #3d50c3;\n",
              "            color:  #f1f1f1;\n",
              "        }    #T_acb7afd4_adf0_11ea_af1f_0242ac1c0002row11_col7 {\n",
              "            background-color:  #aac7fd;\n",
              "            color:  #000000;\n",
              "        }    #T_acb7afd4_adf0_11ea_af1f_0242ac1c0002row11_col8 {\n",
              "            background-color:  #86a9fc;\n",
              "            color:  #000000;\n",
              "        }    #T_acb7afd4_adf0_11ea_af1f_0242ac1c0002row11_col9 {\n",
              "            background-color:  #d65244;\n",
              "            color:  #000000;\n",
              "        }    #T_acb7afd4_adf0_11ea_af1f_0242ac1c0002row11_col10 {\n",
              "            background-color:  #4f69d9;\n",
              "            color:  #000000;\n",
              "        }    #T_acb7afd4_adf0_11ea_af1f_0242ac1c0002row11_col11 {\n",
              "            background-color:  #b40426;\n",
              "            color:  #f1f1f1;\n",
              "        }    #T_acb7afd4_adf0_11ea_af1f_0242ac1c0002row11_col12 {\n",
              "            background-color:  #5875e1;\n",
              "            color:  #000000;\n",
              "        }    #T_acb7afd4_adf0_11ea_af1f_0242ac1c0002row11_col13 {\n",
              "            background-color:  #7a9df8;\n",
              "            color:  #000000;\n",
              "        }    #T_acb7afd4_adf0_11ea_af1f_0242ac1c0002row11_col14 {\n",
              "            background-color:  #516ddb;\n",
              "            color:  #000000;\n",
              "        }    #T_acb7afd4_adf0_11ea_af1f_0242ac1c0002row11_col15 {\n",
              "            background-color:  #5a78e4;\n",
              "            color:  #000000;\n",
              "        }    #T_acb7afd4_adf0_11ea_af1f_0242ac1c0002row12_col0 {\n",
              "            background-color:  #6e90f2;\n",
              "            color:  #000000;\n",
              "        }    #T_acb7afd4_adf0_11ea_af1f_0242ac1c0002row12_col1 {\n",
              "            background-color:  #9dbdff;\n",
              "            color:  #000000;\n",
              "        }    #T_acb7afd4_adf0_11ea_af1f_0242ac1c0002row12_col2 {\n",
              "            background-color:  #9bbcff;\n",
              "            color:  #000000;\n",
              "        }    #T_acb7afd4_adf0_11ea_af1f_0242ac1c0002row12_col3 {\n",
              "            background-color:  #4961d2;\n",
              "            color:  #f1f1f1;\n",
              "        }    #T_acb7afd4_adf0_11ea_af1f_0242ac1c0002row12_col4 {\n",
              "            background-color:  #7da0f9;\n",
              "            color:  #000000;\n",
              "        }    #T_acb7afd4_adf0_11ea_af1f_0242ac1c0002row12_col5 {\n",
              "            background-color:  #5a78e4;\n",
              "            color:  #000000;\n",
              "        }    #T_acb7afd4_adf0_11ea_af1f_0242ac1c0002row12_col6 {\n",
              "            background-color:  #4257c9;\n",
              "            color:  #f1f1f1;\n",
              "        }    #T_acb7afd4_adf0_11ea_af1f_0242ac1c0002row12_col7 {\n",
              "            background-color:  #455cce;\n",
              "            color:  #f1f1f1;\n",
              "        }    #T_acb7afd4_adf0_11ea_af1f_0242ac1c0002row12_col8 {\n",
              "            background-color:  #8caffe;\n",
              "            color:  #000000;\n",
              "        }    #T_acb7afd4_adf0_11ea_af1f_0242ac1c0002row12_col9 {\n",
              "            background-color:  #7a9df8;\n",
              "            color:  #000000;\n",
              "        }    #T_acb7afd4_adf0_11ea_af1f_0242ac1c0002row12_col10 {\n",
              "            background-color:  #4c66d6;\n",
              "            color:  #000000;\n",
              "        }    #T_acb7afd4_adf0_11ea_af1f_0242ac1c0002row12_col11 {\n",
              "            background-color:  #6282ea;\n",
              "            color:  #000000;\n",
              "        }    #T_acb7afd4_adf0_11ea_af1f_0242ac1c0002row12_col12 {\n",
              "            background-color:  #b40426;\n",
              "            color:  #f1f1f1;\n",
              "        }    #T_acb7afd4_adf0_11ea_af1f_0242ac1c0002row12_col13 {\n",
              "            background-color:  #7597f6;\n",
              "            color:  #000000;\n",
              "        }    #T_acb7afd4_adf0_11ea_af1f_0242ac1c0002row12_col14 {\n",
              "            background-color:  #455cce;\n",
              "            color:  #f1f1f1;\n",
              "        }    #T_acb7afd4_adf0_11ea_af1f_0242ac1c0002row12_col15 {\n",
              "            background-color:  #7b9ff9;\n",
              "            color:  #000000;\n",
              "        }    #T_acb7afd4_adf0_11ea_af1f_0242ac1c0002row13_col0 {\n",
              "            background-color:  #485fd1;\n",
              "            color:  #f1f1f1;\n",
              "        }    #T_acb7afd4_adf0_11ea_af1f_0242ac1c0002row13_col1 {\n",
              "            background-color:  #94b6ff;\n",
              "            color:  #000000;\n",
              "        }    #T_acb7afd4_adf0_11ea_af1f_0242ac1c0002row13_col2 {\n",
              "            background-color:  #93b5fe;\n",
              "            color:  #000000;\n",
              "        }    #T_acb7afd4_adf0_11ea_af1f_0242ac1c0002row13_col3 {\n",
              "            background-color:  #4f69d9;\n",
              "            color:  #000000;\n",
              "        }    #T_acb7afd4_adf0_11ea_af1f_0242ac1c0002row13_col4 {\n",
              "            background-color:  #8fb1fe;\n",
              "            color:  #000000;\n",
              "        }    #T_acb7afd4_adf0_11ea_af1f_0242ac1c0002row13_col5 {\n",
              "            background-color:  #4961d2;\n",
              "            color:  #f1f1f1;\n",
              "        }    #T_acb7afd4_adf0_11ea_af1f_0242ac1c0002row13_col6 {\n",
              "            background-color:  #3e51c5;\n",
              "            color:  #f1f1f1;\n",
              "        }    #T_acb7afd4_adf0_11ea_af1f_0242ac1c0002row13_col7 {\n",
              "            background-color:  #5572df;\n",
              "            color:  #000000;\n",
              "        }    #T_acb7afd4_adf0_11ea_af1f_0242ac1c0002row13_col8 {\n",
              "            background-color:  #3b4cc0;\n",
              "            color:  #f1f1f1;\n",
              "        }    #T_acb7afd4_adf0_11ea_af1f_0242ac1c0002row13_col9 {\n",
              "            background-color:  #7597f6;\n",
              "            color:  #000000;\n",
              "        }    #T_acb7afd4_adf0_11ea_af1f_0242ac1c0002row13_col10 {\n",
              "            background-color:  #445acc;\n",
              "            color:  #f1f1f1;\n",
              "        }    #T_acb7afd4_adf0_11ea_af1f_0242ac1c0002row13_col11 {\n",
              "            background-color:  #4e68d8;\n",
              "            color:  #000000;\n",
              "        }    #T_acb7afd4_adf0_11ea_af1f_0242ac1c0002row13_col12 {\n",
              "            background-color:  #3c4ec2;\n",
              "            color:  #f1f1f1;\n",
              "        }    #T_acb7afd4_adf0_11ea_af1f_0242ac1c0002row13_col13 {\n",
              "            background-color:  #b40426;\n",
              "            color:  #f1f1f1;\n",
              "        }    #T_acb7afd4_adf0_11ea_af1f_0242ac1c0002row13_col14 {\n",
              "            background-color:  #485fd1;\n",
              "            color:  #f1f1f1;\n",
              "        }    #T_acb7afd4_adf0_11ea_af1f_0242ac1c0002row13_col15 {\n",
              "            background-color:  #7597f6;\n",
              "            color:  #000000;\n",
              "        }    #T_acb7afd4_adf0_11ea_af1f_0242ac1c0002row14_col0 {\n",
              "            background-color:  #485fd1;\n",
              "            color:  #f1f1f1;\n",
              "        }    #T_acb7afd4_adf0_11ea_af1f_0242ac1c0002row14_col1 {\n",
              "            background-color:  #93b5fe;\n",
              "            color:  #000000;\n",
              "        }    #T_acb7afd4_adf0_11ea_af1f_0242ac1c0002row14_col2 {\n",
              "            background-color:  #92b4fe;\n",
              "            color:  #000000;\n",
              "        }    #T_acb7afd4_adf0_11ea_af1f_0242ac1c0002row14_col3 {\n",
              "            background-color:  #4e68d8;\n",
              "            color:  #000000;\n",
              "        }    #T_acb7afd4_adf0_11ea_af1f_0242ac1c0002row14_col4 {\n",
              "            background-color:  #86a9fc;\n",
              "            color:  #000000;\n",
              "        }    #T_acb7afd4_adf0_11ea_af1f_0242ac1c0002row14_col5 {\n",
              "            background-color:  #4a63d3;\n",
              "            color:  #f1f1f1;\n",
              "        }    #T_acb7afd4_adf0_11ea_af1f_0242ac1c0002row14_col6 {\n",
              "            background-color:  #3d50c3;\n",
              "            color:  #f1f1f1;\n",
              "        }    #T_acb7afd4_adf0_11ea_af1f_0242ac1c0002row14_col7 {\n",
              "            background-color:  #5977e3;\n",
              "            color:  #000000;\n",
              "        }    #T_acb7afd4_adf0_11ea_af1f_0242ac1c0002row14_col8 {\n",
              "            background-color:  #86a9fc;\n",
              "            color:  #000000;\n",
              "        }    #T_acb7afd4_adf0_11ea_af1f_0242ac1c0002row14_col9 {\n",
              "            background-color:  #799cf8;\n",
              "            color:  #000000;\n",
              "        }    #T_acb7afd4_adf0_11ea_af1f_0242ac1c0002row14_col10 {\n",
              "            background-color:  #4c66d6;\n",
              "            color:  #000000;\n",
              "        }    #T_acb7afd4_adf0_11ea_af1f_0242ac1c0002row14_col11 {\n",
              "            background-color:  #6788ee;\n",
              "            color:  #000000;\n",
              "        }    #T_acb7afd4_adf0_11ea_af1f_0242ac1c0002row14_col12 {\n",
              "            background-color:  #4f69d9;\n",
              "            color:  #000000;\n",
              "        }    #T_acb7afd4_adf0_11ea_af1f_0242ac1c0002row14_col13 {\n",
              "            background-color:  #88abfd;\n",
              "            color:  #000000;\n",
              "        }    #T_acb7afd4_adf0_11ea_af1f_0242ac1c0002row14_col14 {\n",
              "            background-color:  #b40426;\n",
              "            color:  #f1f1f1;\n",
              "        }    #T_acb7afd4_adf0_11ea_af1f_0242ac1c0002row14_col15 {\n",
              "            background-color:  #86a9fc;\n",
              "            color:  #000000;\n",
              "        }    #T_acb7afd4_adf0_11ea_af1f_0242ac1c0002row15_col0 {\n",
              "            background-color:  #506bda;\n",
              "            color:  #000000;\n",
              "        }    #T_acb7afd4_adf0_11ea_af1f_0242ac1c0002row15_col1 {\n",
              "            background-color:  #89acfd;\n",
              "            color:  #000000;\n",
              "        }    #T_acb7afd4_adf0_11ea_af1f_0242ac1c0002row15_col2 {\n",
              "            background-color:  #88abfd;\n",
              "            color:  #000000;\n",
              "        }    #T_acb7afd4_adf0_11ea_af1f_0242ac1c0002row15_col3 {\n",
              "            background-color:  #5673e0;\n",
              "            color:  #000000;\n",
              "        }    #T_acb7afd4_adf0_11ea_af1f_0242ac1c0002row15_col4 {\n",
              "            background-color:  #8fb1fe;\n",
              "            color:  #000000;\n",
              "        }    #T_acb7afd4_adf0_11ea_af1f_0242ac1c0002row15_col5 {\n",
              "            background-color:  #4a63d3;\n",
              "            color:  #f1f1f1;\n",
              "        }    #T_acb7afd4_adf0_11ea_af1f_0242ac1c0002row15_col6 {\n",
              "            background-color:  #3b4cc0;\n",
              "            color:  #f1f1f1;\n",
              "        }    #T_acb7afd4_adf0_11ea_af1f_0242ac1c0002row15_col7 {\n",
              "            background-color:  #4a63d3;\n",
              "            color:  #f1f1f1;\n",
              "        }    #T_acb7afd4_adf0_11ea_af1f_0242ac1c0002row15_col8 {\n",
              "            background-color:  #85a8fc;\n",
              "            color:  #000000;\n",
              "        }    #T_acb7afd4_adf0_11ea_af1f_0242ac1c0002row15_col9 {\n",
              "            background-color:  #3b4cc0;\n",
              "            color:  #f1f1f1;\n",
              "        }    #T_acb7afd4_adf0_11ea_af1f_0242ac1c0002row15_col10 {\n",
              "            background-color:  #6788ee;\n",
              "            color:  #000000;\n",
              "        }    #T_acb7afd4_adf0_11ea_af1f_0242ac1c0002row15_col11 {\n",
              "            background-color:  #3b4cc0;\n",
              "            color:  #f1f1f1;\n",
              "        }    #T_acb7afd4_adf0_11ea_af1f_0242ac1c0002row15_col12 {\n",
              "            background-color:  #506bda;\n",
              "            color:  #000000;\n",
              "        }    #T_acb7afd4_adf0_11ea_af1f_0242ac1c0002row15_col13 {\n",
              "            background-color:  #81a4fb;\n",
              "            color:  #000000;\n",
              "        }    #T_acb7afd4_adf0_11ea_af1f_0242ac1c0002row15_col14 {\n",
              "            background-color:  #536edd;\n",
              "            color:  #000000;\n",
              "        }    #T_acb7afd4_adf0_11ea_af1f_0242ac1c0002row15_col15 {\n",
              "            background-color:  #b40426;\n",
              "            color:  #f1f1f1;\n",
              "        }</style><table id=\"T_acb7afd4_adf0_11ea_af1f_0242ac1c0002\" ><thead>    <tr>        <th class=\"blank level0\" ></th>        <th class=\"col_heading level0 col0\" >X_1</th>        <th class=\"col_heading level0 col1\" >X_2</th>        <th class=\"col_heading level0 col2\" >X_3</th>        <th class=\"col_heading level0 col3\" >X_4</th>        <th class=\"col_heading level0 col4\" >X_5</th>        <th class=\"col_heading level0 col5\" >X_6</th>        <th class=\"col_heading level0 col6\" >X_7</th>        <th class=\"col_heading level0 col7\" >X_8</th>        <th class=\"col_heading level0 col8\" >X_9</th>        <th class=\"col_heading level0 col9\" >X_10</th>        <th class=\"col_heading level0 col10\" >X_11</th>        <th class=\"col_heading level0 col11\" >X_12</th>        <th class=\"col_heading level0 col12\" >X_13</th>        <th class=\"col_heading level0 col13\" >X_14</th>        <th class=\"col_heading level0 col14\" >X_15</th>        <th class=\"col_heading level0 col15\" >MULTIPLE_OFFENSE</th>    </tr></thead><tbody>\n",
              "                <tr>\n",
              "                        <th id=\"T_acb7afd4_adf0_11ea_af1f_0242ac1c0002level0_row0\" class=\"row_heading level0 row0\" >X_1</th>\n",
              "                        <td id=\"T_acb7afd4_adf0_11ea_af1f_0242ac1c0002row0_col0\" class=\"data row0 col0\" >1.000000</td>\n",
              "                        <td id=\"T_acb7afd4_adf0_11ea_af1f_0242ac1c0002row0_col1\" class=\"data row0 col1\" >0.021999</td>\n",
              "                        <td id=\"T_acb7afd4_adf0_11ea_af1f_0242ac1c0002row0_col2\" class=\"data row0 col2\" >0.022603</td>\n",
              "                        <td id=\"T_acb7afd4_adf0_11ea_af1f_0242ac1c0002row0_col3\" class=\"data row0 col3\" >0.002137</td>\n",
              "                        <td id=\"T_acb7afd4_adf0_11ea_af1f_0242ac1c0002row0_col4\" class=\"data row0 col4\" >-0.034220</td>\n",
              "                        <td id=\"T_acb7afd4_adf0_11ea_af1f_0242ac1c0002row0_col5\" class=\"data row0 col5\" >0.409876</td>\n",
              "                        <td id=\"T_acb7afd4_adf0_11ea_af1f_0242ac1c0002row0_col6\" class=\"data row0 col6\" >0.421454</td>\n",
              "                        <td id=\"T_acb7afd4_adf0_11ea_af1f_0242ac1c0002row0_col7\" class=\"data row0 col7\" >-0.061897</td>\n",
              "                        <td id=\"T_acb7afd4_adf0_11ea_af1f_0242ac1c0002row0_col8\" class=\"data row0 col8\" >0.017984</td>\n",
              "                        <td id=\"T_acb7afd4_adf0_11ea_af1f_0242ac1c0002row0_col9\" class=\"data row0 col9\" >0.004155</td>\n",
              "                        <td id=\"T_acb7afd4_adf0_11ea_af1f_0242ac1c0002row0_col10\" class=\"data row0 col10\" >-0.003078</td>\n",
              "                        <td id=\"T_acb7afd4_adf0_11ea_af1f_0242ac1c0002row0_col11\" class=\"data row0 col11\" >-0.034835</td>\n",
              "                        <td id=\"T_acb7afd4_adf0_11ea_af1f_0242ac1c0002row0_col12\" class=\"data row0 col12\" >0.111611</td>\n",
              "                        <td id=\"T_acb7afd4_adf0_11ea_af1f_0242ac1c0002row0_col13\" class=\"data row0 col13\" >-0.012708</td>\n",
              "                        <td id=\"T_acb7afd4_adf0_11ea_af1f_0242ac1c0002row0_col14\" class=\"data row0 col14\" >-0.012132</td>\n",
              "                        <td id=\"T_acb7afd4_adf0_11ea_af1f_0242ac1c0002row0_col15\" class=\"data row0 col15\" >0.014034</td>\n",
              "            </tr>\n",
              "            <tr>\n",
              "                        <th id=\"T_acb7afd4_adf0_11ea_af1f_0242ac1c0002level0_row1\" class=\"row_heading level0 row1\" >X_2</th>\n",
              "                        <td id=\"T_acb7afd4_adf0_11ea_af1f_0242ac1c0002row1_col0\" class=\"data row1 col0\" >0.021999</td>\n",
              "                        <td id=\"T_acb7afd4_adf0_11ea_af1f_0242ac1c0002row1_col1\" class=\"data row1 col1\" >1.000000</td>\n",
              "                        <td id=\"T_acb7afd4_adf0_11ea_af1f_0242ac1c0002row1_col2\" class=\"data row1 col2\" >0.996985</td>\n",
              "                        <td id=\"T_acb7afd4_adf0_11ea_af1f_0242ac1c0002row1_col3\" class=\"data row1 col3\" >-0.104321</td>\n",
              "                        <td id=\"T_acb7afd4_adf0_11ea_af1f_0242ac1c0002row1_col4\" class=\"data row1 col4\" >-0.349190</td>\n",
              "                        <td id=\"T_acb7afd4_adf0_11ea_af1f_0242ac1c0002row1_col5\" class=\"data row1 col5\" >0.119718</td>\n",
              "                        <td id=\"T_acb7afd4_adf0_11ea_af1f_0242ac1c0002row1_col6\" class=\"data row1 col6\" >0.058806</td>\n",
              "                        <td id=\"T_acb7afd4_adf0_11ea_af1f_0242ac1c0002row1_col7\" class=\"data row1 col7\" >-0.038174</td>\n",
              "                        <td id=\"T_acb7afd4_adf0_11ea_af1f_0242ac1c0002row1_col8\" class=\"data row1 col8\" >-0.017749</td>\n",
              "                        <td id=\"T_acb7afd4_adf0_11ea_af1f_0242ac1c0002row1_col9\" class=\"data row1 col9\" >-0.016710</td>\n",
              "                        <td id=\"T_acb7afd4_adf0_11ea_af1f_0242ac1c0002row1_col10\" class=\"data row1 col10\" >0.038003</td>\n",
              "                        <td id=\"T_acb7afd4_adf0_11ea_af1f_0242ac1c0002row1_col11\" class=\"data row1 col11\" >-0.067720</td>\n",
              "                        <td id=\"T_acb7afd4_adf0_11ea_af1f_0242ac1c0002row1_col12\" class=\"data row1 col12\" >0.046668</td>\n",
              "                        <td id=\"T_acb7afd4_adf0_11ea_af1f_0242ac1c0002row1_col13\" class=\"data row1 col13\" >0.015194</td>\n",
              "                        <td id=\"T_acb7afd4_adf0_11ea_af1f_0242ac1c0002row1_col14\" class=\"data row1 col14\" >0.013822</td>\n",
              "                        <td id=\"T_acb7afd4_adf0_11ea_af1f_0242ac1c0002row1_col15\" class=\"data row1 col15\" >-0.027293</td>\n",
              "            </tr>\n",
              "            <tr>\n",
              "                        <th id=\"T_acb7afd4_adf0_11ea_af1f_0242ac1c0002level0_row2\" class=\"row_heading level0 row2\" >X_3</th>\n",
              "                        <td id=\"T_acb7afd4_adf0_11ea_af1f_0242ac1c0002row2_col0\" class=\"data row2 col0\" >0.022603</td>\n",
              "                        <td id=\"T_acb7afd4_adf0_11ea_af1f_0242ac1c0002row2_col1\" class=\"data row2 col1\" >0.996985</td>\n",
              "                        <td id=\"T_acb7afd4_adf0_11ea_af1f_0242ac1c0002row2_col2\" class=\"data row2 col2\" >1.000000</td>\n",
              "                        <td id=\"T_acb7afd4_adf0_11ea_af1f_0242ac1c0002row2_col3\" class=\"data row2 col3\" >-0.075344</td>\n",
              "                        <td id=\"T_acb7afd4_adf0_11ea_af1f_0242ac1c0002row2_col4\" class=\"data row2 col4\" >-0.347519</td>\n",
              "                        <td id=\"T_acb7afd4_adf0_11ea_af1f_0242ac1c0002row2_col5\" class=\"data row2 col5\" >0.124662</td>\n",
              "                        <td id=\"T_acb7afd4_adf0_11ea_af1f_0242ac1c0002row2_col6\" class=\"data row2 col6\" >0.072954</td>\n",
              "                        <td id=\"T_acb7afd4_adf0_11ea_af1f_0242ac1c0002row2_col7\" class=\"data row2 col7\" >-0.033035</td>\n",
              "                        <td id=\"T_acb7afd4_adf0_11ea_af1f_0242ac1c0002row2_col8\" class=\"data row2 col8\" >-0.019853</td>\n",
              "                        <td id=\"T_acb7afd4_adf0_11ea_af1f_0242ac1c0002row2_col9\" class=\"data row2 col9\" >-0.014485</td>\n",
              "                        <td id=\"T_acb7afd4_adf0_11ea_af1f_0242ac1c0002row2_col10\" class=\"data row2 col10\" >0.036946</td>\n",
              "                        <td id=\"T_acb7afd4_adf0_11ea_af1f_0242ac1c0002row2_col11\" class=\"data row2 col11\" >-0.064872</td>\n",
              "                        <td id=\"T_acb7afd4_adf0_11ea_af1f_0242ac1c0002row2_col12\" class=\"data row2 col12\" >0.043201</td>\n",
              "                        <td id=\"T_acb7afd4_adf0_11ea_af1f_0242ac1c0002row2_col13\" class=\"data row2 col13\" >0.013522</td>\n",
              "                        <td id=\"T_acb7afd4_adf0_11ea_af1f_0242ac1c0002row2_col14\" class=\"data row2 col14\" >0.006851</td>\n",
              "                        <td id=\"T_acb7afd4_adf0_11ea_af1f_0242ac1c0002row2_col15\" class=\"data row2 col15\" >-0.027218</td>\n",
              "            </tr>\n",
              "            <tr>\n",
              "                        <th id=\"T_acb7afd4_adf0_11ea_af1f_0242ac1c0002level0_row3\" class=\"row_heading level0 row3\" >X_4</th>\n",
              "                        <td id=\"T_acb7afd4_adf0_11ea_af1f_0242ac1c0002row3_col0\" class=\"data row3 col0\" >0.002137</td>\n",
              "                        <td id=\"T_acb7afd4_adf0_11ea_af1f_0242ac1c0002row3_col1\" class=\"data row3 col1\" >-0.104321</td>\n",
              "                        <td id=\"T_acb7afd4_adf0_11ea_af1f_0242ac1c0002row3_col2\" class=\"data row3 col2\" >-0.075344</td>\n",
              "                        <td id=\"T_acb7afd4_adf0_11ea_af1f_0242ac1c0002row3_col3\" class=\"data row3 col3\" >1.000000</td>\n",
              "                        <td id=\"T_acb7afd4_adf0_11ea_af1f_0242ac1c0002row3_col4\" class=\"data row3 col4\" >0.439616</td>\n",
              "                        <td id=\"T_acb7afd4_adf0_11ea_af1f_0242ac1c0002row3_col5\" class=\"data row3 col5\" >0.028929</td>\n",
              "                        <td id=\"T_acb7afd4_adf0_11ea_af1f_0242ac1c0002row3_col6\" class=\"data row3 col6\" >0.094076</td>\n",
              "                        <td id=\"T_acb7afd4_adf0_11ea_af1f_0242ac1c0002row3_col7\" class=\"data row3 col7\" >0.075197</td>\n",
              "                        <td id=\"T_acb7afd4_adf0_11ea_af1f_0242ac1c0002row3_col8\" class=\"data row3 col8\" >-0.008453</td>\n",
              "                        <td id=\"T_acb7afd4_adf0_11ea_af1f_0242ac1c0002row3_col9\" class=\"data row3 col9\" >0.038077</td>\n",
              "                        <td id=\"T_acb7afd4_adf0_11ea_af1f_0242ac1c0002row3_col10\" class=\"data row3 col10\" >-0.037614</td>\n",
              "                        <td id=\"T_acb7afd4_adf0_11ea_af1f_0242ac1c0002row3_col11\" class=\"data row3 col11\" >0.059135</td>\n",
              "                        <td id=\"T_acb7afd4_adf0_11ea_af1f_0242ac1c0002row3_col12\" class=\"data row3 col12\" >-0.051861</td>\n",
              "                        <td id=\"T_acb7afd4_adf0_11ea_af1f_0242ac1c0002row3_col13\" class=\"data row3 col13\" >-0.030024</td>\n",
              "                        <td id=\"T_acb7afd4_adf0_11ea_af1f_0242ac1c0002row3_col14\" class=\"data row3 col14\" >-0.033198</td>\n",
              "                        <td id=\"T_acb7afd4_adf0_11ea_af1f_0242ac1c0002row3_col15\" class=\"data row3 col15\" >-0.002921</td>\n",
              "            </tr>\n",
              "            <tr>\n",
              "                        <th id=\"T_acb7afd4_adf0_11ea_af1f_0242ac1c0002level0_row4\" class=\"row_heading level0 row4\" >X_5</th>\n",
              "                        <td id=\"T_acb7afd4_adf0_11ea_af1f_0242ac1c0002row4_col0\" class=\"data row4 col0\" >-0.034220</td>\n",
              "                        <td id=\"T_acb7afd4_adf0_11ea_af1f_0242ac1c0002row4_col1\" class=\"data row4 col1\" >-0.349190</td>\n",
              "                        <td id=\"T_acb7afd4_adf0_11ea_af1f_0242ac1c0002row4_col2\" class=\"data row4 col2\" >-0.347519</td>\n",
              "                        <td id=\"T_acb7afd4_adf0_11ea_af1f_0242ac1c0002row4_col3\" class=\"data row4 col3\" >0.439616</td>\n",
              "                        <td id=\"T_acb7afd4_adf0_11ea_af1f_0242ac1c0002row4_col4\" class=\"data row4 col4\" >1.000000</td>\n",
              "                        <td id=\"T_acb7afd4_adf0_11ea_af1f_0242ac1c0002row4_col5\" class=\"data row4 col5\" >-0.062784</td>\n",
              "                        <td id=\"T_acb7afd4_adf0_11ea_af1f_0242ac1c0002row4_col6\" class=\"data row4 col6\" >0.010161</td>\n",
              "                        <td id=\"T_acb7afd4_adf0_11ea_af1f_0242ac1c0002row4_col7\" class=\"data row4 col7\" >0.046926</td>\n",
              "                        <td id=\"T_acb7afd4_adf0_11ea_af1f_0242ac1c0002row4_col8\" class=\"data row4 col8\" >0.046428</td>\n",
              "                        <td id=\"T_acb7afd4_adf0_11ea_af1f_0242ac1c0002row4_col9\" class=\"data row4 col9\" >0.046212</td>\n",
              "                        <td id=\"T_acb7afd4_adf0_11ea_af1f_0242ac1c0002row4_col10\" class=\"data row4 col10\" >-0.043111</td>\n",
              "                        <td id=\"T_acb7afd4_adf0_11ea_af1f_0242ac1c0002row4_col11\" class=\"data row4 col11\" >0.082068</td>\n",
              "                        <td id=\"T_acb7afd4_adf0_11ea_af1f_0242ac1c0002row4_col12\" class=\"data row4 col12\" >-0.071233</td>\n",
              "                        <td id=\"T_acb7afd4_adf0_11ea_af1f_0242ac1c0002row4_col13\" class=\"data row4 col13\" >-0.003413</td>\n",
              "                        <td id=\"T_acb7afd4_adf0_11ea_af1f_0242ac1c0002row4_col14\" class=\"data row4 col14\" >-0.036383</td>\n",
              "                        <td id=\"T_acb7afd4_adf0_11ea_af1f_0242ac1c0002row4_col15\" class=\"data row4 col15\" >-0.003450</td>\n",
              "            </tr>\n",
              "            <tr>\n",
              "                        <th id=\"T_acb7afd4_adf0_11ea_af1f_0242ac1c0002level0_row5\" class=\"row_heading level0 row5\" >X_6</th>\n",
              "                        <td id=\"T_acb7afd4_adf0_11ea_af1f_0242ac1c0002row5_col0\" class=\"data row5 col0\" >0.409876</td>\n",
              "                        <td id=\"T_acb7afd4_adf0_11ea_af1f_0242ac1c0002row5_col1\" class=\"data row5 col1\" >0.119718</td>\n",
              "                        <td id=\"T_acb7afd4_adf0_11ea_af1f_0242ac1c0002row5_col2\" class=\"data row5 col2\" >0.124662</td>\n",
              "                        <td id=\"T_acb7afd4_adf0_11ea_af1f_0242ac1c0002row5_col3\" class=\"data row5 col3\" >0.028929</td>\n",
              "                        <td id=\"T_acb7afd4_adf0_11ea_af1f_0242ac1c0002row5_col4\" class=\"data row5 col4\" >-0.062784</td>\n",
              "                        <td id=\"T_acb7afd4_adf0_11ea_af1f_0242ac1c0002row5_col5\" class=\"data row5 col5\" >1.000000</td>\n",
              "                        <td id=\"T_acb7afd4_adf0_11ea_af1f_0242ac1c0002row5_col6\" class=\"data row5 col6\" >0.695243</td>\n",
              "                        <td id=\"T_acb7afd4_adf0_11ea_af1f_0242ac1c0002row5_col7\" class=\"data row5 col7\" >-0.063541</td>\n",
              "                        <td id=\"T_acb7afd4_adf0_11ea_af1f_0242ac1c0002row5_col8\" class=\"data row5 col8\" >0.079192</td>\n",
              "                        <td id=\"T_acb7afd4_adf0_11ea_af1f_0242ac1c0002row5_col9\" class=\"data row5 col9\" >0.021186</td>\n",
              "                        <td id=\"T_acb7afd4_adf0_11ea_af1f_0242ac1c0002row5_col10\" class=\"data row5 col10\" >-0.002990</td>\n",
              "                        <td id=\"T_acb7afd4_adf0_11ea_af1f_0242ac1c0002row5_col11\" class=\"data row5 col11\" >-0.031258</td>\n",
              "                        <td id=\"T_acb7afd4_adf0_11ea_af1f_0242ac1c0002row5_col12\" class=\"data row5 col12\" >0.047845</td>\n",
              "                        <td id=\"T_acb7afd4_adf0_11ea_af1f_0242ac1c0002row5_col13\" class=\"data row5 col13\" >-0.013155</td>\n",
              "                        <td id=\"T_acb7afd4_adf0_11ea_af1f_0242ac1c0002row5_col14\" class=\"data row5 col14\" >-0.006621</td>\n",
              "                        <td id=\"T_acb7afd4_adf0_11ea_af1f_0242ac1c0002row5_col15\" class=\"data row5 col15\" >-0.007903</td>\n",
              "            </tr>\n",
              "            <tr>\n",
              "                        <th id=\"T_acb7afd4_adf0_11ea_af1f_0242ac1c0002level0_row6\" class=\"row_heading level0 row6\" >X_7</th>\n",
              "                        <td id=\"T_acb7afd4_adf0_11ea_af1f_0242ac1c0002row6_col0\" class=\"data row6 col0\" >0.421454</td>\n",
              "                        <td id=\"T_acb7afd4_adf0_11ea_af1f_0242ac1c0002row6_col1\" class=\"data row6 col1\" >0.058806</td>\n",
              "                        <td id=\"T_acb7afd4_adf0_11ea_af1f_0242ac1c0002row6_col2\" class=\"data row6 col2\" >0.072954</td>\n",
              "                        <td id=\"T_acb7afd4_adf0_11ea_af1f_0242ac1c0002row6_col3\" class=\"data row6 col3\" >0.094076</td>\n",
              "                        <td id=\"T_acb7afd4_adf0_11ea_af1f_0242ac1c0002row6_col4\" class=\"data row6 col4\" >0.010161</td>\n",
              "                        <td id=\"T_acb7afd4_adf0_11ea_af1f_0242ac1c0002row6_col5\" class=\"data row6 col5\" >0.695243</td>\n",
              "                        <td id=\"T_acb7afd4_adf0_11ea_af1f_0242ac1c0002row6_col6\" class=\"data row6 col6\" >1.000000</td>\n",
              "                        <td id=\"T_acb7afd4_adf0_11ea_af1f_0242ac1c0002row6_col7\" class=\"data row6 col7\" >-0.011824</td>\n",
              "                        <td id=\"T_acb7afd4_adf0_11ea_af1f_0242ac1c0002row6_col8\" class=\"data row6 col8\" >0.011519</td>\n",
              "                        <td id=\"T_acb7afd4_adf0_11ea_af1f_0242ac1c0002row6_col9\" class=\"data row6 col9\" >0.023205</td>\n",
              "                        <td id=\"T_acb7afd4_adf0_11ea_af1f_0242ac1c0002row6_col10\" class=\"data row6 col10\" >0.002970</td>\n",
              "                        <td id=\"T_acb7afd4_adf0_11ea_af1f_0242ac1c0002row6_col11\" class=\"data row6 col11\" >-0.000409</td>\n",
              "                        <td id=\"T_acb7afd4_adf0_11ea_af1f_0242ac1c0002row6_col12\" class=\"data row6 col12\" >0.012204</td>\n",
              "                        <td id=\"T_acb7afd4_adf0_11ea_af1f_0242ac1c0002row6_col13\" class=\"data row6 col13\" >0.003738</td>\n",
              "                        <td id=\"T_acb7afd4_adf0_11ea_af1f_0242ac1c0002row6_col14\" class=\"data row6 col14\" >-0.003277</td>\n",
              "                        <td id=\"T_acb7afd4_adf0_11ea_af1f_0242ac1c0002row6_col15\" class=\"data row6 col15\" >-0.008036</td>\n",
              "            </tr>\n",
              "            <tr>\n",
              "                        <th id=\"T_acb7afd4_adf0_11ea_af1f_0242ac1c0002level0_row7\" class=\"row_heading level0 row7\" >X_8</th>\n",
              "                        <td id=\"T_acb7afd4_adf0_11ea_af1f_0242ac1c0002row7_col0\" class=\"data row7 col0\" >-0.061897</td>\n",
              "                        <td id=\"T_acb7afd4_adf0_11ea_af1f_0242ac1c0002row7_col1\" class=\"data row7 col1\" >-0.038174</td>\n",
              "                        <td id=\"T_acb7afd4_adf0_11ea_af1f_0242ac1c0002row7_col2\" class=\"data row7 col2\" >-0.033035</td>\n",
              "                        <td id=\"T_acb7afd4_adf0_11ea_af1f_0242ac1c0002row7_col3\" class=\"data row7 col3\" >0.075197</td>\n",
              "                        <td id=\"T_acb7afd4_adf0_11ea_af1f_0242ac1c0002row7_col4\" class=\"data row7 col4\" >0.046926</td>\n",
              "                        <td id=\"T_acb7afd4_adf0_11ea_af1f_0242ac1c0002row7_col5\" class=\"data row7 col5\" >-0.063541</td>\n",
              "                        <td id=\"T_acb7afd4_adf0_11ea_af1f_0242ac1c0002row7_col6\" class=\"data row7 col6\" >-0.011824</td>\n",
              "                        <td id=\"T_acb7afd4_adf0_11ea_af1f_0242ac1c0002row7_col7\" class=\"data row7 col7\" >1.000000</td>\n",
              "                        <td id=\"T_acb7afd4_adf0_11ea_af1f_0242ac1c0002row7_col8\" class=\"data row7 col8\" >-0.090184</td>\n",
              "                        <td id=\"T_acb7afd4_adf0_11ea_af1f_0242ac1c0002row7_col9\" class=\"data row7 col9\" >0.222004</td>\n",
              "                        <td id=\"T_acb7afd4_adf0_11ea_af1f_0242ac1c0002row7_col10\" class=\"data row7 col10\" >0.009424</td>\n",
              "                        <td id=\"T_acb7afd4_adf0_11ea_af1f_0242ac1c0002row7_col11\" class=\"data row7 col11\" >0.273107</td>\n",
              "                        <td id=\"T_acb7afd4_adf0_11ea_af1f_0242ac1c0002row7_col12\" class=\"data row7 col12\" >-0.048140</td>\n",
              "                        <td id=\"T_acb7afd4_adf0_11ea_af1f_0242ac1c0002row7_col13\" class=\"data row7 col13\" >0.003987</td>\n",
              "                        <td id=\"T_acb7afd4_adf0_11ea_af1f_0242ac1c0002row7_col14\" class=\"data row7 col14\" >0.017636</td>\n",
              "                        <td id=\"T_acb7afd4_adf0_11ea_af1f_0242ac1c0002row7_col15\" class=\"data row7 col15\" >-0.033397</td>\n",
              "            </tr>\n",
              "            <tr>\n",
              "                        <th id=\"T_acb7afd4_adf0_11ea_af1f_0242ac1c0002level0_row8\" class=\"row_heading level0 row8\" >X_9</th>\n",
              "                        <td id=\"T_acb7afd4_adf0_11ea_af1f_0242ac1c0002row8_col0\" class=\"data row8 col0\" >0.017984</td>\n",
              "                        <td id=\"T_acb7afd4_adf0_11ea_af1f_0242ac1c0002row8_col1\" class=\"data row8 col1\" >-0.017749</td>\n",
              "                        <td id=\"T_acb7afd4_adf0_11ea_af1f_0242ac1c0002row8_col2\" class=\"data row8 col2\" >-0.019853</td>\n",
              "                        <td id=\"T_acb7afd4_adf0_11ea_af1f_0242ac1c0002row8_col3\" class=\"data row8 col3\" >-0.008453</td>\n",
              "                        <td id=\"T_acb7afd4_adf0_11ea_af1f_0242ac1c0002row8_col4\" class=\"data row8 col4\" >0.046428</td>\n",
              "                        <td id=\"T_acb7afd4_adf0_11ea_af1f_0242ac1c0002row8_col5\" class=\"data row8 col5\" >0.079192</td>\n",
              "                        <td id=\"T_acb7afd4_adf0_11ea_af1f_0242ac1c0002row8_col6\" class=\"data row8 col6\" >0.011519</td>\n",
              "                        <td id=\"T_acb7afd4_adf0_11ea_af1f_0242ac1c0002row8_col7\" class=\"data row8 col7\" >-0.090184</td>\n",
              "                        <td id=\"T_acb7afd4_adf0_11ea_af1f_0242ac1c0002row8_col8\" class=\"data row8 col8\" >1.000000</td>\n",
              "                        <td id=\"T_acb7afd4_adf0_11ea_af1f_0242ac1c0002row8_col9\" class=\"data row8 col9\" >0.013388</td>\n",
              "                        <td id=\"T_acb7afd4_adf0_11ea_af1f_0242ac1c0002row8_col10\" class=\"data row8 col10\" >-0.006152</td>\n",
              "                        <td id=\"T_acb7afd4_adf0_11ea_af1f_0242ac1c0002row8_col11\" class=\"data row8 col11\" >0.005150</td>\n",
              "                        <td id=\"T_acb7afd4_adf0_11ea_af1f_0242ac1c0002row8_col12\" class=\"data row8 col12\" >0.023537</td>\n",
              "                        <td id=\"T_acb7afd4_adf0_11ea_af1f_0242ac1c0002row8_col13\" class=\"data row8 col13\" >-0.297295</td>\n",
              "                        <td id=\"T_acb7afd4_adf0_11ea_af1f_0242ac1c0002row8_col14\" class=\"data row8 col14\" >0.006475</td>\n",
              "                        <td id=\"T_acb7afd4_adf0_11ea_af1f_0242ac1c0002row8_col15\" class=\"data row8 col15\" >-0.000748</td>\n",
              "            </tr>\n",
              "            <tr>\n",
              "                        <th id=\"T_acb7afd4_adf0_11ea_af1f_0242ac1c0002level0_row9\" class=\"row_heading level0 row9\" >X_10</th>\n",
              "                        <td id=\"T_acb7afd4_adf0_11ea_af1f_0242ac1c0002row9_col0\" class=\"data row9 col0\" >0.004155</td>\n",
              "                        <td id=\"T_acb7afd4_adf0_11ea_af1f_0242ac1c0002row9_col1\" class=\"data row9 col1\" >-0.016710</td>\n",
              "                        <td id=\"T_acb7afd4_adf0_11ea_af1f_0242ac1c0002row9_col2\" class=\"data row9 col2\" >-0.014485</td>\n",
              "                        <td id=\"T_acb7afd4_adf0_11ea_af1f_0242ac1c0002row9_col3\" class=\"data row9 col3\" >0.038077</td>\n",
              "                        <td id=\"T_acb7afd4_adf0_11ea_af1f_0242ac1c0002row9_col4\" class=\"data row9 col4\" >0.046212</td>\n",
              "                        <td id=\"T_acb7afd4_adf0_11ea_af1f_0242ac1c0002row9_col5\" class=\"data row9 col5\" >0.021186</td>\n",
              "                        <td id=\"T_acb7afd4_adf0_11ea_af1f_0242ac1c0002row9_col6\" class=\"data row9 col6\" >0.023205</td>\n",
              "                        <td id=\"T_acb7afd4_adf0_11ea_af1f_0242ac1c0002row9_col7\" class=\"data row9 col7\" >0.222004</td>\n",
              "                        <td id=\"T_acb7afd4_adf0_11ea_af1f_0242ac1c0002row9_col8\" class=\"data row9 col8\" >0.013388</td>\n",
              "                        <td id=\"T_acb7afd4_adf0_11ea_af1f_0242ac1c0002row9_col9\" class=\"data row9 col9\" >1.000000</td>\n",
              "                        <td id=\"T_acb7afd4_adf0_11ea_af1f_0242ac1c0002row9_col10\" class=\"data row9 col10\" >-0.045596</td>\n",
              "                        <td id=\"T_acb7afd4_adf0_11ea_af1f_0242ac1c0002row9_col11\" class=\"data row9 col11\" >0.877743</td>\n",
              "                        <td id=\"T_acb7afd4_adf0_11ea_af1f_0242ac1c0002row9_col12\" class=\"data row9 col12\" >0.002332</td>\n",
              "                        <td id=\"T_acb7afd4_adf0_11ea_af1f_0242ac1c0002row9_col13\" class=\"data row9 col13\" >-0.016519</td>\n",
              "                        <td id=\"T_acb7afd4_adf0_11ea_af1f_0242ac1c0002row9_col14\" class=\"data row9 col14\" >-0.003336</td>\n",
              "                        <td id=\"T_acb7afd4_adf0_11ea_af1f_0242ac1c0002row9_col15\" class=\"data row9 col15\" >-0.242596</td>\n",
              "            </tr>\n",
              "            <tr>\n",
              "                        <th id=\"T_acb7afd4_adf0_11ea_af1f_0242ac1c0002level0_row10\" class=\"row_heading level0 row10\" >X_11</th>\n",
              "                        <td id=\"T_acb7afd4_adf0_11ea_af1f_0242ac1c0002row10_col0\" class=\"data row10 col0\" >-0.003078</td>\n",
              "                        <td id=\"T_acb7afd4_adf0_11ea_af1f_0242ac1c0002row10_col1\" class=\"data row10 col1\" >0.038003</td>\n",
              "                        <td id=\"T_acb7afd4_adf0_11ea_af1f_0242ac1c0002row10_col2\" class=\"data row10 col2\" >0.036946</td>\n",
              "                        <td id=\"T_acb7afd4_adf0_11ea_af1f_0242ac1c0002row10_col3\" class=\"data row10 col3\" >-0.037614</td>\n",
              "                        <td id=\"T_acb7afd4_adf0_11ea_af1f_0242ac1c0002row10_col4\" class=\"data row10 col4\" >-0.043111</td>\n",
              "                        <td id=\"T_acb7afd4_adf0_11ea_af1f_0242ac1c0002row10_col5\" class=\"data row10 col5\" >-0.002990</td>\n",
              "                        <td id=\"T_acb7afd4_adf0_11ea_af1f_0242ac1c0002row10_col6\" class=\"data row10 col6\" >0.002970</td>\n",
              "                        <td id=\"T_acb7afd4_adf0_11ea_af1f_0242ac1c0002row10_col7\" class=\"data row10 col7\" >0.009424</td>\n",
              "                        <td id=\"T_acb7afd4_adf0_11ea_af1f_0242ac1c0002row10_col8\" class=\"data row10 col8\" >-0.006152</td>\n",
              "                        <td id=\"T_acb7afd4_adf0_11ea_af1f_0242ac1c0002row10_col9\" class=\"data row10 col9\" >-0.045596</td>\n",
              "                        <td id=\"T_acb7afd4_adf0_11ea_af1f_0242ac1c0002row10_col10\" class=\"data row10 col10\" >1.000000</td>\n",
              "                        <td id=\"T_acb7afd4_adf0_11ea_af1f_0242ac1c0002row10_col11\" class=\"data row10 col11\" >0.027363</td>\n",
              "                        <td id=\"T_acb7afd4_adf0_11ea_af1f_0242ac1c0002row10_col12\" class=\"data row10 col12\" >0.017055</td>\n",
              "                        <td id=\"T_acb7afd4_adf0_11ea_af1f_0242ac1c0002row10_col13\" class=\"data row10 col13\" >-0.009531</td>\n",
              "                        <td id=\"T_acb7afd4_adf0_11ea_af1f_0242ac1c0002row10_col14\" class=\"data row10 col14\" >0.017267</td>\n",
              "                        <td id=\"T_acb7afd4_adf0_11ea_af1f_0242ac1c0002row10_col15\" class=\"data row10 col15\" >0.105088</td>\n",
              "            </tr>\n",
              "            <tr>\n",
              "                        <th id=\"T_acb7afd4_adf0_11ea_af1f_0242ac1c0002level0_row11\" class=\"row_heading level0 row11\" >X_12</th>\n",
              "                        <td id=\"T_acb7afd4_adf0_11ea_af1f_0242ac1c0002row11_col0\" class=\"data row11 col0\" >-0.034835</td>\n",
              "                        <td id=\"T_acb7afd4_adf0_11ea_af1f_0242ac1c0002row11_col1\" class=\"data row11 col1\" >-0.067720</td>\n",
              "                        <td id=\"T_acb7afd4_adf0_11ea_af1f_0242ac1c0002row11_col2\" class=\"data row11 col2\" >-0.064872</td>\n",
              "                        <td id=\"T_acb7afd4_adf0_11ea_af1f_0242ac1c0002row11_col3\" class=\"data row11 col3\" >0.059135</td>\n",
              "                        <td id=\"T_acb7afd4_adf0_11ea_af1f_0242ac1c0002row11_col4\" class=\"data row11 col4\" >0.082068</td>\n",
              "                        <td id=\"T_acb7afd4_adf0_11ea_af1f_0242ac1c0002row11_col5\" class=\"data row11 col5\" >-0.031258</td>\n",
              "                        <td id=\"T_acb7afd4_adf0_11ea_af1f_0242ac1c0002row11_col6\" class=\"data row11 col6\" >-0.000409</td>\n",
              "                        <td id=\"T_acb7afd4_adf0_11ea_af1f_0242ac1c0002row11_col7\" class=\"data row11 col7\" >0.273107</td>\n",
              "                        <td id=\"T_acb7afd4_adf0_11ea_af1f_0242ac1c0002row11_col8\" class=\"data row11 col8\" >0.005150</td>\n",
              "                        <td id=\"T_acb7afd4_adf0_11ea_af1f_0242ac1c0002row11_col9\" class=\"data row11 col9\" >0.877743</td>\n",
              "                        <td id=\"T_acb7afd4_adf0_11ea_af1f_0242ac1c0002row11_col10\" class=\"data row11 col10\" >0.027363</td>\n",
              "                        <td id=\"T_acb7afd4_adf0_11ea_af1f_0242ac1c0002row11_col11\" class=\"data row11 col11\" >1.000000</td>\n",
              "                        <td id=\"T_acb7afd4_adf0_11ea_af1f_0242ac1c0002row11_col12\" class=\"data row11 col12\" >0.030012</td>\n",
              "                        <td id=\"T_acb7afd4_adf0_11ea_af1f_0242ac1c0002row11_col13\" class=\"data row11 col13\" >-0.042033</td>\n",
              "                        <td id=\"T_acb7afd4_adf0_11ea_af1f_0242ac1c0002row11_col14\" class=\"data row11 col14\" >0.044005</td>\n",
              "                        <td id=\"T_acb7afd4_adf0_11ea_af1f_0242ac1c0002row11_col15\" class=\"data row11 col15\" >-0.113061</td>\n",
              "            </tr>\n",
              "            <tr>\n",
              "                        <th id=\"T_acb7afd4_adf0_11ea_af1f_0242ac1c0002level0_row12\" class=\"row_heading level0 row12\" >X_13</th>\n",
              "                        <td id=\"T_acb7afd4_adf0_11ea_af1f_0242ac1c0002row12_col0\" class=\"data row12 col0\" >0.111611</td>\n",
              "                        <td id=\"T_acb7afd4_adf0_11ea_af1f_0242ac1c0002row12_col1\" class=\"data row12 col1\" >0.046668</td>\n",
              "                        <td id=\"T_acb7afd4_adf0_11ea_af1f_0242ac1c0002row12_col2\" class=\"data row12 col2\" >0.043201</td>\n",
              "                        <td id=\"T_acb7afd4_adf0_11ea_af1f_0242ac1c0002row12_col3\" class=\"data row12 col3\" >-0.051861</td>\n",
              "                        <td id=\"T_acb7afd4_adf0_11ea_af1f_0242ac1c0002row12_col4\" class=\"data row12 col4\" >-0.071233</td>\n",
              "                        <td id=\"T_acb7afd4_adf0_11ea_af1f_0242ac1c0002row12_col5\" class=\"data row12 col5\" >0.047845</td>\n",
              "                        <td id=\"T_acb7afd4_adf0_11ea_af1f_0242ac1c0002row12_col6\" class=\"data row12 col6\" >0.012204</td>\n",
              "                        <td id=\"T_acb7afd4_adf0_11ea_af1f_0242ac1c0002row12_col7\" class=\"data row12 col7\" >-0.048140</td>\n",
              "                        <td id=\"T_acb7afd4_adf0_11ea_af1f_0242ac1c0002row12_col8\" class=\"data row12 col8\" >0.023537</td>\n",
              "                        <td id=\"T_acb7afd4_adf0_11ea_af1f_0242ac1c0002row12_col9\" class=\"data row12 col9\" >0.002332</td>\n",
              "                        <td id=\"T_acb7afd4_adf0_11ea_af1f_0242ac1c0002row12_col10\" class=\"data row12 col10\" >0.017055</td>\n",
              "                        <td id=\"T_acb7afd4_adf0_11ea_af1f_0242ac1c0002row12_col11\" class=\"data row12 col11\" >0.030012</td>\n",
              "                        <td id=\"T_acb7afd4_adf0_11ea_af1f_0242ac1c0002row12_col12\" class=\"data row12 col12\" >1.000000</td>\n",
              "                        <td id=\"T_acb7afd4_adf0_11ea_af1f_0242ac1c0002row12_col13\" class=\"data row12 col13\" >-0.063373</td>\n",
              "                        <td id=\"T_acb7afd4_adf0_11ea_af1f_0242ac1c0002row12_col14\" class=\"data row12 col14\" >0.004041</td>\n",
              "                        <td id=\"T_acb7afd4_adf0_11ea_af1f_0242ac1c0002row12_col15\" class=\"data row12 col15\" >0.006512</td>\n",
              "            </tr>\n",
              "            <tr>\n",
              "                        <th id=\"T_acb7afd4_adf0_11ea_af1f_0242ac1c0002level0_row13\" class=\"row_heading level0 row13\" >X_14</th>\n",
              "                        <td id=\"T_acb7afd4_adf0_11ea_af1f_0242ac1c0002row13_col0\" class=\"data row13 col0\" >-0.012708</td>\n",
              "                        <td id=\"T_acb7afd4_adf0_11ea_af1f_0242ac1c0002row13_col1\" class=\"data row13 col1\" >0.015194</td>\n",
              "                        <td id=\"T_acb7afd4_adf0_11ea_af1f_0242ac1c0002row13_col2\" class=\"data row13 col2\" >0.013522</td>\n",
              "                        <td id=\"T_acb7afd4_adf0_11ea_af1f_0242ac1c0002row13_col3\" class=\"data row13 col3\" >-0.030024</td>\n",
              "                        <td id=\"T_acb7afd4_adf0_11ea_af1f_0242ac1c0002row13_col4\" class=\"data row13 col4\" >-0.003413</td>\n",
              "                        <td id=\"T_acb7afd4_adf0_11ea_af1f_0242ac1c0002row13_col5\" class=\"data row13 col5\" >-0.013155</td>\n",
              "                        <td id=\"T_acb7afd4_adf0_11ea_af1f_0242ac1c0002row13_col6\" class=\"data row13 col6\" >0.003738</td>\n",
              "                        <td id=\"T_acb7afd4_adf0_11ea_af1f_0242ac1c0002row13_col7\" class=\"data row13 col7\" >0.003987</td>\n",
              "                        <td id=\"T_acb7afd4_adf0_11ea_af1f_0242ac1c0002row13_col8\" class=\"data row13 col8\" >-0.297295</td>\n",
              "                        <td id=\"T_acb7afd4_adf0_11ea_af1f_0242ac1c0002row13_col9\" class=\"data row13 col9\" >-0.016519</td>\n",
              "                        <td id=\"T_acb7afd4_adf0_11ea_af1f_0242ac1c0002row13_col10\" class=\"data row13 col10\" >-0.009531</td>\n",
              "                        <td id=\"T_acb7afd4_adf0_11ea_af1f_0242ac1c0002row13_col11\" class=\"data row13 col11\" >-0.042033</td>\n",
              "                        <td id=\"T_acb7afd4_adf0_11ea_af1f_0242ac1c0002row13_col12\" class=\"data row13 col12\" >-0.063373</td>\n",
              "                        <td id=\"T_acb7afd4_adf0_11ea_af1f_0242ac1c0002row13_col13\" class=\"data row13 col13\" >1.000000</td>\n",
              "                        <td id=\"T_acb7afd4_adf0_11ea_af1f_0242ac1c0002row13_col14\" class=\"data row13 col14\" >0.011804</td>\n",
              "                        <td id=\"T_acb7afd4_adf0_11ea_af1f_0242ac1c0002row13_col15\" class=\"data row13 col15\" >-0.015267</td>\n",
              "            </tr>\n",
              "            <tr>\n",
              "                        <th id=\"T_acb7afd4_adf0_11ea_af1f_0242ac1c0002level0_row14\" class=\"row_heading level0 row14\" >X_15</th>\n",
              "                        <td id=\"T_acb7afd4_adf0_11ea_af1f_0242ac1c0002row14_col0\" class=\"data row14 col0\" >-0.012132</td>\n",
              "                        <td id=\"T_acb7afd4_adf0_11ea_af1f_0242ac1c0002row14_col1\" class=\"data row14 col1\" >0.013822</td>\n",
              "                        <td id=\"T_acb7afd4_adf0_11ea_af1f_0242ac1c0002row14_col2\" class=\"data row14 col2\" >0.006851</td>\n",
              "                        <td id=\"T_acb7afd4_adf0_11ea_af1f_0242ac1c0002row14_col3\" class=\"data row14 col3\" >-0.033198</td>\n",
              "                        <td id=\"T_acb7afd4_adf0_11ea_af1f_0242ac1c0002row14_col4\" class=\"data row14 col4\" >-0.036383</td>\n",
              "                        <td id=\"T_acb7afd4_adf0_11ea_af1f_0242ac1c0002row14_col5\" class=\"data row14 col5\" >-0.006621</td>\n",
              "                        <td id=\"T_acb7afd4_adf0_11ea_af1f_0242ac1c0002row14_col6\" class=\"data row14 col6\" >-0.003277</td>\n",
              "                        <td id=\"T_acb7afd4_adf0_11ea_af1f_0242ac1c0002row14_col7\" class=\"data row14 col7\" >0.017636</td>\n",
              "                        <td id=\"T_acb7afd4_adf0_11ea_af1f_0242ac1c0002row14_col8\" class=\"data row14 col8\" >0.006475</td>\n",
              "                        <td id=\"T_acb7afd4_adf0_11ea_af1f_0242ac1c0002row14_col9\" class=\"data row14 col9\" >-0.003336</td>\n",
              "                        <td id=\"T_acb7afd4_adf0_11ea_af1f_0242ac1c0002row14_col10\" class=\"data row14 col10\" >0.017267</td>\n",
              "                        <td id=\"T_acb7afd4_adf0_11ea_af1f_0242ac1c0002row14_col11\" class=\"data row14 col11\" >0.044005</td>\n",
              "                        <td id=\"T_acb7afd4_adf0_11ea_af1f_0242ac1c0002row14_col12\" class=\"data row14 col12\" >0.004041</td>\n",
              "                        <td id=\"T_acb7afd4_adf0_11ea_af1f_0242ac1c0002row14_col13\" class=\"data row14 col13\" >0.011804</td>\n",
              "                        <td id=\"T_acb7afd4_adf0_11ea_af1f_0242ac1c0002row14_col14\" class=\"data row14 col14\" >1.000000</td>\n",
              "                        <td id=\"T_acb7afd4_adf0_11ea_af1f_0242ac1c0002row14_col15\" class=\"data row14 col15\" >0.044916</td>\n",
              "            </tr>\n",
              "            <tr>\n",
              "                        <th id=\"T_acb7afd4_adf0_11ea_af1f_0242ac1c0002level0_row15\" class=\"row_heading level0 row15\" >MULTIPLE_OFFENSE</th>\n",
              "                        <td id=\"T_acb7afd4_adf0_11ea_af1f_0242ac1c0002row15_col0\" class=\"data row15 col0\" >0.014034</td>\n",
              "                        <td id=\"T_acb7afd4_adf0_11ea_af1f_0242ac1c0002row15_col1\" class=\"data row15 col1\" >-0.027293</td>\n",
              "                        <td id=\"T_acb7afd4_adf0_11ea_af1f_0242ac1c0002row15_col2\" class=\"data row15 col2\" >-0.027218</td>\n",
              "                        <td id=\"T_acb7afd4_adf0_11ea_af1f_0242ac1c0002row15_col3\" class=\"data row15 col3\" >-0.002921</td>\n",
              "                        <td id=\"T_acb7afd4_adf0_11ea_af1f_0242ac1c0002row15_col4\" class=\"data row15 col4\" >-0.003450</td>\n",
              "                        <td id=\"T_acb7afd4_adf0_11ea_af1f_0242ac1c0002row15_col5\" class=\"data row15 col5\" >-0.007903</td>\n",
              "                        <td id=\"T_acb7afd4_adf0_11ea_af1f_0242ac1c0002row15_col6\" class=\"data row15 col6\" >-0.008036</td>\n",
              "                        <td id=\"T_acb7afd4_adf0_11ea_af1f_0242ac1c0002row15_col7\" class=\"data row15 col7\" >-0.033397</td>\n",
              "                        <td id=\"T_acb7afd4_adf0_11ea_af1f_0242ac1c0002row15_col8\" class=\"data row15 col8\" >-0.000748</td>\n",
              "                        <td id=\"T_acb7afd4_adf0_11ea_af1f_0242ac1c0002row15_col9\" class=\"data row15 col9\" >-0.242596</td>\n",
              "                        <td id=\"T_acb7afd4_adf0_11ea_af1f_0242ac1c0002row15_col10\" class=\"data row15 col10\" >0.105088</td>\n",
              "                        <td id=\"T_acb7afd4_adf0_11ea_af1f_0242ac1c0002row15_col11\" class=\"data row15 col11\" >-0.113061</td>\n",
              "                        <td id=\"T_acb7afd4_adf0_11ea_af1f_0242ac1c0002row15_col12\" class=\"data row15 col12\" >0.006512</td>\n",
              "                        <td id=\"T_acb7afd4_adf0_11ea_af1f_0242ac1c0002row15_col13\" class=\"data row15 col13\" >-0.015267</td>\n",
              "                        <td id=\"T_acb7afd4_adf0_11ea_af1f_0242ac1c0002row15_col14\" class=\"data row15 col14\" >0.044916</td>\n",
              "                        <td id=\"T_acb7afd4_adf0_11ea_af1f_0242ac1c0002row15_col15\" class=\"data row15 col15\" >1.000000</td>\n",
              "            </tr>\n",
              "    </tbody></table>"
            ],
            "text/plain": [
              "<pandas.io.formats.style.Styler at 0x7f264930bda0>"
            ]
          },
          "metadata": {
            "tags": []
          },
          "execution_count": 7
        }
      ]
    },
    {
      "cell_type": "markdown",
      "metadata": {
        "id": "1sUkwjhx6bzM",
        "colab_type": "text"
      },
      "source": [
        "The highest **negative** correlation for the target variable is `X_10` and the higihest **positive** correlation is with `X_15`."
      ]
    },
    {
      "cell_type": "code",
      "metadata": {
        "id": "A8wS-sP2Y6sE",
        "colab_type": "code",
        "outputId": "a5951a7b-9af2-4254-9bd3-df2e6a5ddf47",
        "colab": {
          "base_uri": "https://localhost:8080/",
          "height": 386
        }
      },
      "source": [
        "mul_off = train_data['MULTIPLE_OFFENSE']\n",
        "corr = train_data.corrwith(mul_off)\n",
        "corr.plot(kind='bar', title='Target Correlation')"
      ],
      "execution_count": 0,
      "outputs": [
        {
          "output_type": "execute_result",
          "data": {
            "text/plain": [
              "<matplotlib.axes._subplots.AxesSubplot at 0x7f2648f3ffd0>"
            ]
          },
          "metadata": {
            "tags": []
          },
          "execution_count": 8
        },
        {
          "output_type": "display_data",
          "data": {
            "image/png": "[encoded data removed]",
            "text/plain": [
              "<Figure size 432x288 with 1 Axes>"
            ]
          },
          "metadata": {
            "tags": [],
            "needs_background": "light"
          }
        }
      ]
    },
    {
      "cell_type": "markdown",
      "metadata": {
        "id": "txCmUxxnIi5C",
        "colab_type": "text"
      },
      "source": [
        "# Target Distribution"
      ]
    },
    {
      "cell_type": "code",
      "metadata": {
        "id": "3pWaVg51Ilap",
        "colab_type": "code",
        "colab": {
          "base_uri": "https://localhost:8080/",
          "height": 280
        },
        "outputId": "d7427fd4-fc3b-4f62-d05e-c9ac5aa3cc91"
      },
      "source": [
        "train_data['MULTIPLE_OFFENSE'].value_counts().plot(kind='bar')"
      ],
      "execution_count": 5,
      "outputs": [
        {
          "output_type": "execute_result",
          "data": {
            "text/plain": [
              "<matplotlib.axes._subplots.AxesSubplot at 0x7f0058217f98>"
            ]
          },
          "metadata": {
            "tags": []
          },
          "execution_count": 5
        },
        {
          "output_type": "display_data",
          "data": {
            "image/png": "[encoded data removed]",
            "text/plain": [
              "<Figure size 432x288 with 1 Axes>"
            ]
          },
          "metadata": {
            "tags": [],
            "needs_background": "light"
          }
        }
      ]
    },
    {
      "cell_type": "markdown",
      "metadata": {
        "id": "aHA4In5jJBcX",
        "colab_type": "text"
      },
      "source": [
        "We have quite a skewed distribution, maybe now we can have make an assumption regarding what the classes of `MULTIPLE_OFFENSE` may mean, the problem title was **Predict if the server will be hacked**, assuming some normal conditions\n",
        "\n",
        "- `1` must be the times when the server was not attacked and running smoothly\n",
        "- `0` must be the times when the server was attacked and malfunctioning(maybe)"
      ]
    },
    {
      "cell_type": "markdown",
      "metadata": {
        "id": "xMz10YOsHv4_",
        "colab_type": "text"
      },
      "source": [
        "To understand the feature interaction we can try to build a simple decision tree classifier and plot the decision tree to view interaction visually. We should also consider this problem as a time-series classification problem."
      ]
    },
    {
      "cell_type": "markdown",
      "metadata": {
        "id": "xpCrJSGyKPlc",
        "colab_type": "text"
      },
      "source": [
        "# Model setup"
      ]
    },
    {
      "cell_type": "code",
      "metadata": {
        "id": "ldcCfYRs5eao",
        "colab_type": "code",
        "colab": {}
      },
      "source": [
        "# since we may need the model to work on data with proper sequence\n",
        "train_data.sort_values(by='DATE', inplace=True)"
      ],
      "execution_count": 0,
      "outputs": []
    },
    {
      "cell_type": "code",
      "metadata": {
        "id": "-Cklee7o0w2w",
        "colab_type": "code",
        "colab": {}
      },
      "source": [
        "import numpy as np\n",
        "seed=0\n",
        "np.random.seed(seed=seed)"
      ],
      "execution_count": 0,
      "outputs": []
    },
    {
      "cell_type": "code",
      "metadata": {
        "id": "ShMj64aFZ1GB",
        "colab_type": "code",
        "colab": {}
      },
      "source": [
        "from sklearn.tree import DecisionTreeClassifier\n",
        "from sklearn.preprocessing import StandardScaler\n",
        "from sklearn.pipeline import Pipeline\n",
        "from sklearn.impute import SimpleImputer\n",
        "\n",
        "# form a pipeline with scaler and decision tree\n",
        "pipe = Pipeline([\n",
        "                 ('median_imputer', SimpleImputer(strategy='median')),\n",
        "                 ('scaler', StandardScaler()),\n",
        "                 ('tree', DecisionTreeClassifier(max_depth=4, random_state=seed))\n",
        "                 ])"
      ],
      "execution_count": 0,
      "outputs": []
    },
    {
      "cell_type": "markdown",
      "metadata": {
        "id": "mf5ZUox5KRB2",
        "colab_type": "text"
      },
      "source": [
        "# Data Preprocessing"
      ]
    },
    {
      "cell_type": "code",
      "metadata": {
        "id": "GVnzgU2KKTHK",
        "colab_type": "code",
        "colab": {}
      },
      "source": [
        "from sklearn.model_selection import train_test_split\n",
        "\n",
        "# We will try not to use dates now\n",
        "x_train, x_test, y_train, y_test = train_test_split(train_data.drop(['DATE', 'MULTIPLE_OFFENSE'], axis='columns'), \n",
        "                                                    train_data['MULTIPLE_OFFENSE'],\n",
        "                                                    random_state=seed,\n",
        "                                                    # Stratified split\n",
        "                                                    stratify=train_data['MULTIPLE_OFFENSE'].values)"
      ],
      "execution_count": 0,
      "outputs": []
    },
    {
      "cell_type": "code",
      "metadata": {
        "id": "QkKG57iJLiS2",
        "colab_type": "code",
        "colab": {
          "base_uri": "https://localhost:8080/",
          "height": 34
        },
        "outputId": "4a232769-efbf-450d-e3fb-e5a94250d510"
      },
      "source": [
        "x_train.shape, y_train.shape, x_test.shape, y_test.shape"
      ],
      "execution_count": 140,
      "outputs": [
        {
          "output_type": "execute_result",
          "data": {
            "text/plain": [
              "((17892, 15), (17892,), (5964, 15), (5964,))"
            ]
          },
          "metadata": {
            "tags": []
          },
          "execution_count": 140
        }
      ]
    },
    {
      "cell_type": "markdown",
      "metadata": {
        "id": "M5SFN2fqMb_j",
        "colab_type": "text"
      },
      "source": [
        "# Model Training"
      ]
    },
    {
      "cell_type": "code",
      "metadata": {
        "id": "ZNATPyRaLrCG",
        "colab_type": "code",
        "colab": {
          "base_uri": "https://localhost:8080/",
          "height": 329
        },
        "outputId": "cd4cd47c-dab2-4491-81c2-d01a4a816644"
      },
      "source": [
        "pipe.fit(x_train, y_train)"
      ],
      "execution_count": 141,
      "outputs": [
        {
          "output_type": "execute_result",
          "data": {
            "text/plain": [
              "Pipeline(memory=None,\n",
              "         steps=[('median_imputer',\n",
              "                 SimpleImputer(add_indicator=False, copy=True, fill_value=None,\n",
              "                               missing_values=nan, strategy='median',\n",
              "                               verbose=0)),\n",
              "                ('scaler',\n",
              "                 StandardScaler(copy=True, with_mean=True, with_std=True)),\n",
              "                ('tree',\n",
              "                 DecisionTreeClassifier(ccp_alpha=0.0, class_weight=None,\n",
              "                                        criterion='gini', max_depth=4,\n",
              "                                        max_features=None, max_leaf_nodes=None,\n",
              "                                        min_impurity_decrease=0.0,\n",
              "                                        min_impurity_split=None,\n",
              "                                        min_samples_leaf=1, min_samples_split=2,\n",
              "                                        min_weight_fraction_leaf=0.0,\n",
              "                                        presort='deprecated', random_state=0,\n",
              "                                        splitter='best'))],\n",
              "         verbose=False)"
            ]
          },
          "metadata": {
            "tags": []
          },
          "execution_count": 141
        }
      ]
    },
    {
      "cell_type": "markdown",
      "metadata": {
        "id": "RXR3CzLrMfhn",
        "colab_type": "text"
      },
      "source": [
        "# Model Evaluation"
      ]
    },
    {
      "cell_type": "code",
      "metadata": {
        "id": "7DbkbMg-2V9F",
        "colab_type": "code",
        "colab": {
          "base_uri": "https://localhost:8080/",
          "height": 34
        },
        "outputId": "9e332c72-9eed-4d76-fd3d-c347c066147e"
      },
      "source": [
        "pipe.score(x_test, y_test)"
      ],
      "execution_count": 142,
      "outputs": [
        {
          "output_type": "execute_result",
          "data": {
            "text/plain": [
              "0.9842387659289068"
            ]
          },
          "metadata": {
            "tags": []
          },
          "execution_count": 142
        }
      ]
    },
    {
      "cell_type": "markdown",
      "metadata": {
        "id": "OOkLpCzMPDfu",
        "colab_type": "text"
      },
      "source": [
        "This might be misleading because our target is heavily skewed towards `1`"
      ]
    },
    {
      "cell_type": "code",
      "metadata": {
        "id": "BUAkst1dTVw1",
        "colab_type": "code",
        "colab": {}
      },
      "source": [
        "y_pred = pipe.predict(x_test)"
      ],
      "execution_count": 0,
      "outputs": []
    },
    {
      "cell_type": "code",
      "metadata": {
        "id": "ic3CoXwQS66P",
        "colab_type": "code",
        "colab": {
          "base_uri": "https://localhost:8080/",
          "height": 296
        },
        "outputId": "a00d10c5-e2b4-4b2e-afe9-7129a64a7e50"
      },
      "source": [
        "from sklearn.metrics import plot_confusion_matrix\n",
        "\n",
        "plot_confusion_matrix(pipe, x_test, y_test)"
      ],
      "execution_count": 144,
      "outputs": [
        {
          "output_type": "execute_result",
          "data": {
            "text/plain": [
              "<sklearn.metrics._plot.confusion_matrix.ConfusionMatrixDisplay at 0x7f1a4bf1ad68>"
            ]
          },
          "metadata": {
            "tags": []
          },
          "execution_count": 144
        },
        {
          "output_type": "display_data",
          "data": {
            "image/png": "[encoded data removed]",
            "text/plain": [
              "<Figure size 432x288 with 2 Axes>"
            ]
          },
          "metadata": {
            "tags": [],
            "needs_background": "light"
          }
        }
      ]
    },
    {
      "cell_type": "code",
      "metadata": {
        "id": "2iMEhMUU1IiN",
        "colab_type": "code",
        "colab": {
          "base_uri": "https://localhost:8080/",
          "height": 86
        },
        "outputId": "751984b3-a1c9-4a8b-9719-600c507234fa"
      },
      "source": [
        "tn, fp, fn, tp = confusion_matrix(y_test, y_pred).ravel()\n",
        "print(f'TP = {tp} \\nFP = {fp}\\nTN = {tn}\\nFN = {fn}')"
      ],
      "execution_count": 145,
      "outputs": [
        {
          "output_type": "stream",
          "text": [
            "TP = 5681 \n",
            "FP = 78\n",
            "TN = 189\n",
            "FN = 16\n"
          ],
          "name": "stdout"
        }
      ]
    },
    {
      "cell_type": "code",
      "metadata": {
        "id": "cxZ3TMjOUSrk",
        "colab_type": "code",
        "colab": {
          "base_uri": "https://localhost:8080/",
          "height": 173
        },
        "outputId": "60c1028d-e593-4636-ee7a-3a8fb358d916"
      },
      "source": [
        "from sklearn.metrics import classification_report\n",
        "\n",
        "print(classification_report(y_test, y_pred, target_names = ['class 0', 'class 1']))"
      ],
      "execution_count": 146,
      "outputs": [
        {
          "output_type": "stream",
          "text": [
            "              precision    recall  f1-score   support\n",
            "\n",
            "     class 0       0.92      0.71      0.80       267\n",
            "     class 1       0.99      1.00      0.99      5697\n",
            "\n",
            "    accuracy                           0.98      5964\n",
            "   macro avg       0.95      0.85      0.90      5964\n",
            "weighted avg       0.98      0.98      0.98      5964\n",
            "\n"
          ],
          "name": "stdout"
        }
      ]
    },
    {
      "cell_type": "markdown",
      "metadata": {
        "id": "RuWVefc1VMiW",
        "colab_type": "text"
      },
      "source": [
        "Not bad at all, but based on our assumption if we assume that the classes represent\n",
        "\n",
        "- `1` must be the times when the server was not attacked and running smoothly\n",
        "- `0` must be the times when the server was attacked and malfunctioning(maybe)\n",
        "\n",
        "The model will be more useful if it could predict the malfunction correctly most of the times because it should be able to detect the fault.\n"
      ]
    },
    {
      "cell_type": "markdown",
      "metadata": {
        "id": "HaZdbaCpyrfh",
        "colab_type": "text"
      },
      "source": [
        "The `FP (False Positives)` *(ie)* the number of cases where the server was malfunctioning but the model predicted as **not** is **`78`**, not bad actually."
      ]
    },
    {
      "cell_type": "markdown",
      "metadata": {
        "id": "fzVE8tBWyp3I",
        "colab_type": "text"
      },
      "source": [
        "\n",
        "If we look at the value of `recall` for `class 0` it is `0.71` which is okay for a simple decision tree classifier, with no feature engineering."
      ]
    },
    {
      "cell_type": "markdown",
      "metadata": {
        "id": "B11MW0XqP6zo",
        "colab_type": "text"
      },
      "source": [
        "Let's try to plot the tree"
      ]
    },
    {
      "cell_type": "code",
      "metadata": {
        "id": "4d9QLVH0QqY6",
        "colab_type": "code",
        "colab": {
          "base_uri": "https://localhost:8080/",
          "height": 777
        },
        "outputId": "32c3c49e-7bdc-4016-dfd4-bcdea474a4bc"
      },
      "source": [
        "from sklearn import tree\n",
        "import graphviz\n",
        "\n",
        "# tree.plot_tree(pipe['tree'])\n",
        "dot_data = tree.export_graphviz(pipe['tree'], out_file=None, \n",
        "                     feature_names=[f'X_{i}' for i in range(1, 16)],  \n",
        "                     class_names=['0', '1'],  \n",
        "                     filled=True, rounded=True,  \n",
        "                     special_characters=True)\n",
        "graph = graphviz.Source(dot_data)\n",
        "graph"
      ],
      "execution_count": 160,
      "outputs": [
        {
          "output_type": "execute_result",
          "data": {
            "text/plain": [
              "<graphviz.files.Source at 0x7f1a4b83f2b0>"
            ],
            "image/svg+xml": "<?xml version=\"1.0\" encoding=\"UTF-8\" standalone=\"no\"?>\n<!DOCTYPE svg PUBLIC \"-//W3C//DTD SVG 1.1//EN\"\n \"http://www.w3.org/Graphics/SVG/1.1/DTD/svg11.dtd\">\n<!-- Generated by graphviz version 2.40.1 (20161225.0304)\n -->\n<!-- Title: Tree Pages: 1 -->\n<svg width=\"1555pt\" height=\"552pt\"\n viewBox=\"0.00 0.00 1555.00 552.00\" xmlns=\"http://www.w3.org/2000/svg\" xmlns:xlink=\"http://www.w3.org/1999/xlink\">\n<g id=\"graph0\" class=\"graph\" transform=\"scale(1 1) rotate(0) translate(4 548)\">\n<title>Tree</title>\n<polygon fill=\"#ffffff\" stroke=\"transparent\" points=\"-4,4 -4,-548 1551,-548 1551,4 -4,4\"/>\n<!-- 0 -->\n<g id=\"node1\" class=\"node\">\n<title>0</title>\n<path fill=\"#42a2e6\" stroke=\"#000000\" d=\"M664.5,-544C664.5,-544 539.5,-544 539.5,-544 533.5,-544 527.5,-538 527.5,-532 527.5,-532 527.5,-473 527.5,-473 527.5,-467 533.5,-461 539.5,-461 539.5,-461 664.5,-461 664.5,-461 670.5,-461 676.5,-467 676.5,-473 676.5,-473 676.5,-532 676.5,-532 676.5,-538 670.5,-544 664.5,-544\"/>\n<text text-anchor=\"start\" x=\"558.5\" y=\"-528.8\" font-family=\"Helvetica,sans-Serif\" font-size=\"14.00\" fill=\"#000000\">X_10 ≤ 0.222</text>\n<text text-anchor=\"start\" x=\"564\" y=\"-513.8\" font-family=\"Helvetica,sans-Serif\" font-size=\"14.00\" fill=\"#000000\">gini = 0.086</text>\n<text text-anchor=\"start\" x=\"546\" y=\"-498.8\" font-family=\"Helvetica,sans-Serif\" font-size=\"14.00\" fill=\"#000000\">samples = 17892</text>\n<text text-anchor=\"start\" x=\"535.5\" y=\"-483.8\" font-family=\"Helvetica,sans-Serif\" font-size=\"14.00\" fill=\"#000000\">value = [801, 17091]</text>\n<text text-anchor=\"start\" x=\"573\" y=\"-468.8\" font-family=\"Helvetica,sans-Serif\" font-size=\"14.00\" fill=\"#000000\">class = 1</text>\n</g>\n<!-- 1 -->\n<g id=\"node2\" class=\"node\">\n<title>1</title>\n<path fill=\"#3a9ee5\" stroke=\"#000000\" d=\"M526,-425C526,-425 410,-425 410,-425 404,-425 398,-419 398,-413 398,-413 398,-354 398,-354 398,-348 404,-342 410,-342 410,-342 526,-342 526,-342 532,-342 538,-348 538,-354 538,-354 538,-413 538,-413 538,-419 532,-425 526,-425\"/>\n<text text-anchor=\"start\" x=\"424.5\" y=\"-409.8\" font-family=\"Helvetica,sans-Serif\" font-size=\"14.00\" fill=\"#000000\">X_15 ≤ 0.181</text>\n<text text-anchor=\"start\" x=\"430\" y=\"-394.8\" font-family=\"Helvetica,sans-Serif\" font-size=\"14.00\" fill=\"#000000\">gini = 0.011</text>\n<text text-anchor=\"start\" x=\"412\" y=\"-379.8\" font-family=\"Helvetica,sans-Serif\" font-size=\"14.00\" fill=\"#000000\">samples = 15140</text>\n<text text-anchor=\"start\" x=\"406\" y=\"-364.8\" font-family=\"Helvetica,sans-Serif\" font-size=\"14.00\" fill=\"#000000\">value = [80, 15060]</text>\n<text text-anchor=\"start\" x=\"439\" y=\"-349.8\" font-family=\"Helvetica,sans-Serif\" font-size=\"14.00\" fill=\"#000000\">class = 1</text>\n</g>\n<!-- 0&#45;&gt;1 -->\n<g id=\"edge1\" class=\"edge\">\n<title>0&#45;&gt;1</title>\n<path fill=\"none\" stroke=\"#000000\" d=\"M555.1333,-460.8796C544.6875,-451.6031 533.5219,-441.6874 522.789,-432.1559\"/>\n<polygon fill=\"#000000\" stroke=\"#000000\" points=\"524.868,-429.3213 515.0667,-425.2981 520.2199,-434.5553 524.868,-429.3213\"/>\n<text text-anchor=\"middle\" x=\"516.5464\" y=\"-446.5542\" font-family=\"Helvetica,sans-Serif\" font-size=\"14.00\" fill=\"#000000\">True</text>\n</g>\n<!-- 10 -->\n<g id=\"node11\" class=\"node\">\n<title>10</title>\n<path fill=\"#7fc0ee\" stroke=\"#000000\" d=\"M810,-425C810,-425 694,-425 694,-425 688,-425 682,-419 682,-413 682,-413 682,-354 682,-354 682,-348 688,-342 694,-342 694,-342 810,-342 810,-342 816,-342 822,-348 822,-354 822,-354 822,-413 822,-413 822,-419 816,-425 810,-425\"/>\n<text text-anchor=\"start\" x=\"708.5\" y=\"-409.8\" font-family=\"Helvetica,sans-Serif\" font-size=\"14.00\" fill=\"#000000\">X_12 ≤ 0.438</text>\n<text text-anchor=\"start\" x=\"714\" y=\"-394.8\" font-family=\"Helvetica,sans-Serif\" font-size=\"14.00\" fill=\"#000000\">gini = 0.387</text>\n<text text-anchor=\"start\" x=\"700\" y=\"-379.8\" font-family=\"Helvetica,sans-Serif\" font-size=\"14.00\" fill=\"#000000\">samples = 2752</text>\n<text text-anchor=\"start\" x=\"690\" y=\"-364.8\" font-family=\"Helvetica,sans-Serif\" font-size=\"14.00\" fill=\"#000000\">value = [721, 2031]</text>\n<text text-anchor=\"start\" x=\"723\" y=\"-349.8\" font-family=\"Helvetica,sans-Serif\" font-size=\"14.00\" fill=\"#000000\">class = 1</text>\n</g>\n<!-- 0&#45;&gt;10 -->\n<g id=\"edge10\" class=\"edge\">\n<title>0&#45;&gt;10</title>\n<path fill=\"none\" stroke=\"#000000\" d=\"M654.4627,-460.8796C666.4521,-451.368 679.2887,-441.1843 691.5816,-431.432\"/>\n<polygon fill=\"#000000\" stroke=\"#000000\" points=\"693.9081,-434.054 699.5669,-425.0969 689.5575,-428.5701 693.9081,-434.054\"/>\n<text text-anchor=\"middle\" x=\"696.7048\" y=\"-446.2326\" font-family=\"Helvetica,sans-Serif\" font-size=\"14.00\" fill=\"#000000\">False</text>\n</g>\n<!-- 2 -->\n<g id=\"node3\" class=\"node\">\n<title>2</title>\n<path fill=\"#399de5\" stroke=\"#000000\" d=\"M317,-306C317,-306 209,-306 209,-306 203,-306 197,-300 197,-294 197,-294 197,-235 197,-235 197,-229 203,-223 209,-223 209,-223 317,-223 317,-223 323,-223 329,-229 329,-235 329,-235 329,-294 329,-294 329,-300 323,-306 317,-306\"/>\n<text text-anchor=\"start\" x=\"217.5\" y=\"-290.8\" font-family=\"Helvetica,sans-Serif\" font-size=\"14.00\" fill=\"#000000\">X_15 ≤ &#45;2.377</text>\n<text text-anchor=\"start\" x=\"225\" y=\"-275.8\" font-family=\"Helvetica,sans-Serif\" font-size=\"14.00\" fill=\"#000000\">gini = 0.001</text>\n<text text-anchor=\"start\" x=\"207\" y=\"-260.8\" font-family=\"Helvetica,sans-Serif\" font-size=\"14.00\" fill=\"#000000\">samples = 13034</text>\n<text text-anchor=\"start\" x=\"205\" y=\"-245.8\" font-family=\"Helvetica,sans-Serif\" font-size=\"14.00\" fill=\"#000000\">value = [4, 13030]</text>\n<text text-anchor=\"start\" x=\"234\" y=\"-230.8\" font-family=\"Helvetica,sans-Serif\" font-size=\"14.00\" fill=\"#000000\">class = 1</text>\n</g>\n<!-- 1&#45;&gt;2 -->\n<g id=\"edge2\" class=\"edge\">\n<title>1&#45;&gt;2</title>\n<path fill=\"none\" stroke=\"#000000\" d=\"M397.7374,-342.7134C378.4392,-331.5111 357.4437,-319.3234 337.8955,-307.9759\"/>\n<polygon fill=\"#000000\" stroke=\"#000000\" points=\"339.4327,-304.8213 329.027,-302.8279 335.9184,-310.8752 339.4327,-304.8213\"/>\n</g>\n<!-- 7 -->\n<g id=\"node8\" class=\"node\">\n<title>7</title>\n<path fill=\"#40a1e6\" stroke=\"#000000\" d=\"M522,-306C522,-306 414,-306 414,-306 408,-306 402,-300 402,-294 402,-294 402,-235 402,-235 402,-229 408,-223 414,-223 414,-223 522,-223 522,-223 528,-223 534,-229 534,-235 534,-235 534,-294 534,-294 534,-300 528,-306 522,-306\"/>\n<text text-anchor=\"start\" x=\"424.5\" y=\"-290.8\" font-family=\"Helvetica,sans-Serif\" font-size=\"14.00\" fill=\"#000000\">X_15 ≤ 0.717</text>\n<text text-anchor=\"start\" x=\"434.5\" y=\"-275.8\" font-family=\"Helvetica,sans-Serif\" font-size=\"14.00\" fill=\"#000000\">gini = 0.07</text>\n<text text-anchor=\"start\" x=\"416\" y=\"-260.8\" font-family=\"Helvetica,sans-Serif\" font-size=\"14.00\" fill=\"#000000\">samples = 2106</text>\n<text text-anchor=\"start\" x=\"410\" y=\"-245.8\" font-family=\"Helvetica,sans-Serif\" font-size=\"14.00\" fill=\"#000000\">value = [76, 2030]</text>\n<text text-anchor=\"start\" x=\"439\" y=\"-230.8\" font-family=\"Helvetica,sans-Serif\" font-size=\"14.00\" fill=\"#000000\">class = 1</text>\n</g>\n<!-- 1&#45;&gt;7 -->\n<g id=\"edge7\" class=\"edge\">\n<title>1&#45;&gt;7</title>\n<path fill=\"none\" stroke=\"#000000\" d=\"M468,-341.8796C468,-333.6838 468,-324.9891 468,-316.5013\"/>\n<polygon fill=\"#000000\" stroke=\"#000000\" points=\"471.5001,-316.298 468,-306.2981 464.5001,-316.2981 471.5001,-316.298\"/>\n</g>\n<!-- 3 -->\n<g id=\"node4\" class=\"node\">\n<title>3</title>\n<path fill=\"#3a9ee5\" stroke=\"#000000\" d=\"M167,-187C167,-187 75,-187 75,-187 69,-187 63,-181 63,-175 63,-175 63,-116 63,-116 63,-110 69,-104 75,-104 75,-104 167,-104 167,-104 173,-104 179,-110 179,-116 179,-116 179,-175 179,-175 179,-181 173,-187 167,-187\"/>\n<text text-anchor=\"start\" x=\"75.5\" y=\"-171.8\" font-family=\"Helvetica,sans-Serif\" font-size=\"14.00\" fill=\"#000000\">X_15 ≤ &#45;3.448</text>\n<text text-anchor=\"start\" x=\"83\" y=\"-156.8\" font-family=\"Helvetica,sans-Serif\" font-size=\"14.00\" fill=\"#000000\">gini = 0.011</text>\n<text text-anchor=\"start\" x=\"73\" y=\"-141.8\" font-family=\"Helvetica,sans-Serif\" font-size=\"14.00\" fill=\"#000000\">samples = 722</text>\n<text text-anchor=\"start\" x=\"71\" y=\"-126.8\" font-family=\"Helvetica,sans-Serif\" font-size=\"14.00\" fill=\"#000000\">value = [4, 718]</text>\n<text text-anchor=\"start\" x=\"92\" y=\"-111.8\" font-family=\"Helvetica,sans-Serif\" font-size=\"14.00\" fill=\"#000000\">class = 1</text>\n</g>\n<!-- 2&#45;&gt;3 -->\n<g id=\"edge3\" class=\"edge\">\n<title>2&#45;&gt;3</title>\n<path fill=\"none\" stroke=\"#000000\" d=\"M213.3353,-222.8796C202.1584,-213.513 190.2038,-203.4948 178.7288,-193.8784\"/>\n<polygon fill=\"#000000\" stroke=\"#000000\" points=\"180.7893,-191.0386 170.8767,-187.2981 176.2931,-196.4037 180.7893,-191.0386\"/>\n</g>\n<!-- 6 -->\n<g id=\"node7\" class=\"node\">\n<title>6</title>\n<path fill=\"#399de5\" stroke=\"#000000\" d=\"M317,-179.5C317,-179.5 209,-179.5 209,-179.5 203,-179.5 197,-173.5 197,-167.5 197,-167.5 197,-123.5 197,-123.5 197,-117.5 203,-111.5 209,-111.5 209,-111.5 317,-111.5 317,-111.5 323,-111.5 329,-117.5 329,-123.5 329,-123.5 329,-167.5 329,-167.5 329,-173.5 323,-179.5 317,-179.5\"/>\n<text text-anchor=\"start\" x=\"233.5\" y=\"-164.3\" font-family=\"Helvetica,sans-Serif\" font-size=\"14.00\" fill=\"#000000\">gini = 0.0</text>\n<text text-anchor=\"start\" x=\"207\" y=\"-149.3\" font-family=\"Helvetica,sans-Serif\" font-size=\"14.00\" fill=\"#000000\">samples = 12312</text>\n<text text-anchor=\"start\" x=\"205\" y=\"-134.3\" font-family=\"Helvetica,sans-Serif\" font-size=\"14.00\" fill=\"#000000\">value = [0, 12312]</text>\n<text text-anchor=\"start\" x=\"234\" y=\"-119.3\" font-family=\"Helvetica,sans-Serif\" font-size=\"14.00\" fill=\"#000000\">class = 1</text>\n</g>\n<!-- 2&#45;&gt;6 -->\n<g id=\"edge6\" class=\"edge\">\n<title>2&#45;&gt;6</title>\n<path fill=\"none\" stroke=\"#000000\" d=\"M263,-222.8796C263,-212.2134 263,-200.7021 263,-189.9015\"/>\n<polygon fill=\"#000000\" stroke=\"#000000\" points=\"266.5001,-189.8149 263,-179.8149 259.5001,-189.815 266.5001,-189.8149\"/>\n</g>\n<!-- 4 -->\n<g id=\"node5\" class=\"node\">\n<title>4</title>\n<path fill=\"#399de5\" stroke=\"#000000\" d=\"M104,-68C104,-68 12,-68 12,-68 6,-68 0,-62 0,-56 0,-56 0,-12 0,-12 0,-6 6,0 12,0 12,0 104,0 104,0 110,0 116,-6 116,-12 116,-12 116,-56 116,-56 116,-62 110,-68 104,-68\"/>\n<text text-anchor=\"start\" x=\"28.5\" y=\"-52.8\" font-family=\"Helvetica,sans-Serif\" font-size=\"14.00\" fill=\"#000000\">gini = 0.0</text>\n<text text-anchor=\"start\" x=\"10\" y=\"-37.8\" font-family=\"Helvetica,sans-Serif\" font-size=\"14.00\" fill=\"#000000\">samples = 718</text>\n<text text-anchor=\"start\" x=\"8\" y=\"-22.8\" font-family=\"Helvetica,sans-Serif\" font-size=\"14.00\" fill=\"#000000\">value = [0, 718]</text>\n<text text-anchor=\"start\" x=\"29\" y=\"-7.8\" font-family=\"Helvetica,sans-Serif\" font-size=\"14.00\" fill=\"#000000\">class = 1</text>\n</g>\n<!-- 3&#45;&gt;4 -->\n<g id=\"edge4\" class=\"edge\">\n<title>3&#45;&gt;4</title>\n<path fill=\"none\" stroke=\"#000000\" d=\"M97.5411,-103.9815C92.6078,-95.2504 87.3926,-86.0202 82.4248,-77.2281\"/>\n<polygon fill=\"#000000\" stroke=\"#000000\" points=\"85.3263,-75.2483 77.3597,-68.2637 79.2319,-78.6918 85.3263,-75.2483\"/>\n</g>\n<!-- 5 -->\n<g id=\"node6\" class=\"node\">\n<title>5</title>\n<path fill=\"#e58139\" stroke=\"#000000\" d=\"M221.5,-68C221.5,-68 146.5,-68 146.5,-68 140.5,-68 134.5,-62 134.5,-56 134.5,-56 134.5,-12 134.5,-12 134.5,-6 140.5,0 146.5,0 146.5,0 221.5,0 221.5,0 227.5,0 233.5,-6 233.5,-12 233.5,-12 233.5,-56 233.5,-56 233.5,-62 227.5,-68 221.5,-68\"/>\n<text text-anchor=\"start\" x=\"154.5\" y=\"-52.8\" font-family=\"Helvetica,sans-Serif\" font-size=\"14.00\" fill=\"#000000\">gini = 0.0</text>\n<text text-anchor=\"start\" x=\"144.5\" y=\"-37.8\" font-family=\"Helvetica,sans-Serif\" font-size=\"14.00\" fill=\"#000000\">samples = 4</text>\n<text text-anchor=\"start\" x=\"142.5\" y=\"-22.8\" font-family=\"Helvetica,sans-Serif\" font-size=\"14.00\" fill=\"#000000\">value = [4, 0]</text>\n<text text-anchor=\"start\" x=\"155\" y=\"-7.8\" font-family=\"Helvetica,sans-Serif\" font-size=\"14.00\" fill=\"#000000\">class = 0</text>\n</g>\n<!-- 3&#45;&gt;5 -->\n<g id=\"edge5\" class=\"edge\">\n<title>3&#45;&gt;5</title>\n<path fill=\"none\" stroke=\"#000000\" d=\"M144.4589,-103.9815C149.3922,-95.2504 154.6074,-86.0202 159.5752,-77.2281\"/>\n<polygon fill=\"#000000\" stroke=\"#000000\" points=\"162.7681,-78.6918 164.6403,-68.2637 156.6737,-75.2483 162.7681,-78.6918\"/>\n</g>\n<!-- 8 -->\n<g id=\"node9\" class=\"node\">\n<title>8</title>\n<path fill=\"#e58139\" stroke=\"#000000\" d=\"M442.5,-179.5C442.5,-179.5 359.5,-179.5 359.5,-179.5 353.5,-179.5 347.5,-173.5 347.5,-167.5 347.5,-167.5 347.5,-123.5 347.5,-123.5 347.5,-117.5 353.5,-111.5 359.5,-111.5 359.5,-111.5 442.5,-111.5 442.5,-111.5 448.5,-111.5 454.5,-117.5 454.5,-123.5 454.5,-123.5 454.5,-167.5 454.5,-167.5 454.5,-173.5 448.5,-179.5 442.5,-179.5\"/>\n<text text-anchor=\"start\" x=\"371.5\" y=\"-164.3\" font-family=\"Helvetica,sans-Serif\" font-size=\"14.00\" fill=\"#000000\">gini = 0.0</text>\n<text text-anchor=\"start\" x=\"357\" y=\"-149.3\" font-family=\"Helvetica,sans-Serif\" font-size=\"14.00\" fill=\"#000000\">samples = 76</text>\n<text text-anchor=\"start\" x=\"355.5\" y=\"-134.3\" font-family=\"Helvetica,sans-Serif\" font-size=\"14.00\" fill=\"#000000\">value = [76, 0]</text>\n<text text-anchor=\"start\" x=\"372\" y=\"-119.3\" font-family=\"Helvetica,sans-Serif\" font-size=\"14.00\" fill=\"#000000\">class = 0</text>\n</g>\n<!-- 7&#45;&gt;8 -->\n<g id=\"edge8\" class=\"edge\">\n<title>7&#45;&gt;8</title>\n<path fill=\"none\" stroke=\"#000000\" d=\"M444.5667,-222.8796C438.3137,-211.7735 431.5448,-199.7513 425.249,-188.5691\"/>\n<polygon fill=\"#000000\" stroke=\"#000000\" points=\"428.2761,-186.8116 420.3202,-179.8149 422.1765,-190.2459 428.2761,-186.8116\"/>\n</g>\n<!-- 9 -->\n<g id=\"node10\" class=\"node\">\n<title>9</title>\n<path fill=\"#399de5\" stroke=\"#000000\" d=\"M585,-179.5C585,-179.5 485,-179.5 485,-179.5 479,-179.5 473,-173.5 473,-167.5 473,-167.5 473,-123.5 473,-123.5 473,-117.5 479,-111.5 485,-111.5 485,-111.5 585,-111.5 585,-111.5 591,-111.5 597,-117.5 597,-123.5 597,-123.5 597,-167.5 597,-167.5 597,-173.5 591,-179.5 585,-179.5\"/>\n<text text-anchor=\"start\" x=\"505.5\" y=\"-164.3\" font-family=\"Helvetica,sans-Serif\" font-size=\"14.00\" fill=\"#000000\">gini = 0.0</text>\n<text text-anchor=\"start\" x=\"483\" y=\"-149.3\" font-family=\"Helvetica,sans-Serif\" font-size=\"14.00\" fill=\"#000000\">samples = 2030</text>\n<text text-anchor=\"start\" x=\"481\" y=\"-134.3\" font-family=\"Helvetica,sans-Serif\" font-size=\"14.00\" fill=\"#000000\">value = [0, 2030]</text>\n<text text-anchor=\"start\" x=\"506\" y=\"-119.3\" font-family=\"Helvetica,sans-Serif\" font-size=\"14.00\" fill=\"#000000\">class = 1</text>\n</g>\n<!-- 7&#45;&gt;9 -->\n<g id=\"edge9\" class=\"edge\">\n<title>7&#45;&gt;9</title>\n<path fill=\"none\" stroke=\"#000000\" d=\"M491.4333,-222.8796C497.6863,-211.7735 504.4552,-199.7513 510.751,-188.5691\"/>\n<polygon fill=\"#000000\" stroke=\"#000000\" points=\"513.8235,-190.2459 515.6798,-179.8149 507.7239,-186.8116 513.8235,-190.2459\"/>\n</g>\n<!-- 11 -->\n<g id=\"node12\" class=\"node\">\n<title>11</title>\n<path fill=\"#f1bd97\" stroke=\"#000000\" d=\"M806,-306C806,-306 698,-306 698,-306 692,-306 686,-300 686,-294 686,-294 686,-235 686,-235 686,-229 692,-223 698,-223 698,-223 806,-223 806,-223 812,-223 818,-229 818,-235 818,-235 818,-294 818,-294 818,-300 812,-306 806,-306\"/>\n<text text-anchor=\"start\" x=\"706.5\" y=\"-290.8\" font-family=\"Helvetica,sans-Serif\" font-size=\"14.00\" fill=\"#000000\">X_12 ≤ &#45;0.391</text>\n<text text-anchor=\"start\" x=\"714\" y=\"-275.8\" font-family=\"Helvetica,sans-Serif\" font-size=\"14.00\" fill=\"#000000\">gini = 0.437</text>\n<text text-anchor=\"start\" x=\"704\" y=\"-260.8\" font-family=\"Helvetica,sans-Serif\" font-size=\"14.00\" fill=\"#000000\">samples = 638</text>\n<text text-anchor=\"start\" x=\"694\" y=\"-245.8\" font-family=\"Helvetica,sans-Serif\" font-size=\"14.00\" fill=\"#000000\">value = [432, 206]</text>\n<text text-anchor=\"start\" x=\"723\" y=\"-230.8\" font-family=\"Helvetica,sans-Serif\" font-size=\"14.00\" fill=\"#000000\">class = 0</text>\n</g>\n<!-- 10&#45;&gt;11 -->\n<g id=\"edge11\" class=\"edge\">\n<title>10&#45;&gt;11</title>\n<path fill=\"none\" stroke=\"#000000\" d=\"M752,-341.8796C752,-333.6838 752,-324.9891 752,-316.5013\"/>\n<polygon fill=\"#000000\" stroke=\"#000000\" points=\"755.5001,-316.298 752,-306.2981 748.5001,-316.2981 755.5001,-316.298\"/>\n</g>\n<!-- 18 -->\n<g id=\"node19\" class=\"node\">\n<title>18</title>\n<path fill=\"#58ade9\" stroke=\"#000000\" d=\"M1196,-306C1196,-306 1080,-306 1080,-306 1074,-306 1068,-300 1068,-294 1068,-294 1068,-235 1068,-235 1068,-229 1074,-223 1080,-223 1080,-223 1196,-223 1196,-223 1202,-223 1208,-229 1208,-235 1208,-235 1208,-294 1208,-294 1208,-300 1202,-306 1196,-306\"/>\n<text text-anchor=\"start\" x=\"1094.5\" y=\"-290.8\" font-family=\"Helvetica,sans-Serif\" font-size=\"14.00\" fill=\"#000000\">X_11 ≤ 0.365</text>\n<text text-anchor=\"start\" x=\"1100\" y=\"-275.8\" font-family=\"Helvetica,sans-Serif\" font-size=\"14.00\" fill=\"#000000\">gini = 0.236</text>\n<text text-anchor=\"start\" x=\"1086\" y=\"-260.8\" font-family=\"Helvetica,sans-Serif\" font-size=\"14.00\" fill=\"#000000\">samples = 2114</text>\n<text text-anchor=\"start\" x=\"1076\" y=\"-245.8\" font-family=\"Helvetica,sans-Serif\" font-size=\"14.00\" fill=\"#000000\">value = [289, 1825]</text>\n<text text-anchor=\"start\" x=\"1109\" y=\"-230.8\" font-family=\"Helvetica,sans-Serif\" font-size=\"14.00\" fill=\"#000000\">class = 1</text>\n</g>\n<!-- 10&#45;&gt;18 -->\n<g id=\"edge18\" class=\"edge\">\n<title>10&#45;&gt;18</title>\n<path fill=\"none\" stroke=\"#000000\" d=\"M822.3495,-361.8119C888.9122,-341.2913 988.7088,-310.525 1058.2093,-289.0987\"/>\n<polygon fill=\"#000000\" stroke=\"#000000\" points=\"1059.2834,-292.4302 1067.8085,-286.1394 1057.2211,-285.7408 1059.2834,-292.4302\"/>\n</g>\n<!-- 12 -->\n<g id=\"node13\" class=\"node\">\n<title>12</title>\n<path fill=\"#9dcef2\" stroke=\"#000000\" d=\"M735,-187C735,-187 627,-187 627,-187 621,-187 615,-181 615,-175 615,-175 615,-116 615,-116 615,-110 621,-104 627,-104 627,-104 735,-104 735,-104 741,-104 747,-110 747,-116 747,-116 747,-175 747,-175 747,-181 741,-187 735,-187\"/>\n<text text-anchor=\"start\" x=\"635.5\" y=\"-171.8\" font-family=\"Helvetica,sans-Serif\" font-size=\"14.00\" fill=\"#000000\">X_11 ≤ &#45;0.443</text>\n<text text-anchor=\"start\" x=\"643\" y=\"-156.8\" font-family=\"Helvetica,sans-Serif\" font-size=\"14.00\" fill=\"#000000\">gini = 0.446</text>\n<text text-anchor=\"start\" x=\"633\" y=\"-141.8\" font-family=\"Helvetica,sans-Serif\" font-size=\"14.00\" fill=\"#000000\">samples = 298</text>\n<text text-anchor=\"start\" x=\"623\" y=\"-126.8\" font-family=\"Helvetica,sans-Serif\" font-size=\"14.00\" fill=\"#000000\">value = [100, 198]</text>\n<text text-anchor=\"start\" x=\"652\" y=\"-111.8\" font-family=\"Helvetica,sans-Serif\" font-size=\"14.00\" fill=\"#000000\">class = 1</text>\n</g>\n<!-- 11&#45;&gt;12 -->\n<g id=\"edge12\" class=\"edge\">\n<title>11&#45;&gt;12</title>\n<path fill=\"none\" stroke=\"#000000\" d=\"M727.1676,-222.8796C722.0091,-214.2335 716.5192,-205.0322 711.1924,-196.1042\"/>\n<polygon fill=\"#000000\" stroke=\"#000000\" points=\"714.0678,-194.0924 705.9383,-187.2981 708.0564,-197.679 714.0678,-194.0924\"/>\n</g>\n<!-- 15 -->\n<g id=\"node16\" class=\"node\">\n<title>15</title>\n<path fill=\"#e6843e\" stroke=\"#000000\" d=\"M869,-187C869,-187 777,-187 777,-187 771,-187 765,-181 765,-175 765,-175 765,-116 765,-116 765,-110 771,-104 777,-104 777,-104 869,-104 869,-104 875,-104 881,-110 881,-116 881,-116 881,-175 881,-175 881,-181 875,-187 869,-187\"/>\n<text text-anchor=\"start\" x=\"779.5\" y=\"-171.8\" font-family=\"Helvetica,sans-Serif\" font-size=\"14.00\" fill=\"#000000\">X_15 ≤ 0.955</text>\n<text text-anchor=\"start\" x=\"785\" y=\"-156.8\" font-family=\"Helvetica,sans-Serif\" font-size=\"14.00\" fill=\"#000000\">gini = 0.046</text>\n<text text-anchor=\"start\" x=\"775\" y=\"-141.8\" font-family=\"Helvetica,sans-Serif\" font-size=\"14.00\" fill=\"#000000\">samples = 340</text>\n<text text-anchor=\"start\" x=\"773\" y=\"-126.8\" font-family=\"Helvetica,sans-Serif\" font-size=\"14.00\" fill=\"#000000\">value = [332, 8]</text>\n<text text-anchor=\"start\" x=\"794\" y=\"-111.8\" font-family=\"Helvetica,sans-Serif\" font-size=\"14.00\" fill=\"#000000\">class = 0</text>\n</g>\n<!-- 11&#45;&gt;15 -->\n<g id=\"edge15\" class=\"edge\">\n<title>11&#45;&gt;15</title>\n<path fill=\"none\" stroke=\"#000000\" d=\"M776.8324,-222.8796C781.9909,-214.2335 787.4808,-205.0322 792.8076,-196.1042\"/>\n<polygon fill=\"#000000\" stroke=\"#000000\" points=\"795.9436,-197.679 798.0617,-187.2981 789.9322,-194.0924 795.9436,-197.679\"/>\n</g>\n<!-- 13 -->\n<g id=\"node14\" class=\"node\">\n<title>13</title>\n<path fill=\"#eeae7f\" stroke=\"#000000\" d=\"M589,-68C589,-68 497,-68 497,-68 491,-68 485,-62 485,-56 485,-56 485,-12 485,-12 485,-6 491,0 497,0 497,0 589,0 589,0 595,0 601,-6 601,-12 601,-12 601,-56 601,-56 601,-62 595,-68 589,-68\"/>\n<text text-anchor=\"start\" x=\"505\" y=\"-52.8\" font-family=\"Helvetica,sans-Serif\" font-size=\"14.00\" fill=\"#000000\">gini = 0.386</text>\n<text text-anchor=\"start\" x=\"499\" y=\"-37.8\" font-family=\"Helvetica,sans-Serif\" font-size=\"14.00\" fill=\"#000000\">samples = 65</text>\n<text text-anchor=\"start\" x=\"493\" y=\"-22.8\" font-family=\"Helvetica,sans-Serif\" font-size=\"14.00\" fill=\"#000000\">value = [48, 17]</text>\n<text text-anchor=\"start\" x=\"514\" y=\"-7.8\" font-family=\"Helvetica,sans-Serif\" font-size=\"14.00\" fill=\"#000000\">class = 0</text>\n</g>\n<!-- 12&#45;&gt;13 -->\n<g id=\"edge13\" class=\"edge\">\n<title>12&#45;&gt;13</title>\n<path fill=\"none\" stroke=\"#000000\" d=\"M629.6139,-103.9815C617.7839,-94.4232 605.2136,-84.2668 593.4249,-74.7419\"/>\n<polygon fill=\"#000000\" stroke=\"#000000\" points=\"595.3851,-71.826 585.4071,-68.2637 590.9858,-77.2708 595.3851,-71.826\"/>\n</g>\n<!-- 14 -->\n<g id=\"node15\" class=\"node\">\n<title>14</title>\n<path fill=\"#72b9ec\" stroke=\"#000000\" d=\"M731,-68C731,-68 631,-68 631,-68 625,-68 619,-62 619,-56 619,-56 619,-12 619,-12 619,-6 625,0 631,0 631,0 731,0 731,0 737,0 743,-6 743,-12 743,-12 743,-56 743,-56 743,-62 737,-68 731,-68\"/>\n<text text-anchor=\"start\" x=\"643\" y=\"-52.8\" font-family=\"Helvetica,sans-Serif\" font-size=\"14.00\" fill=\"#000000\">gini = 0.347</text>\n<text text-anchor=\"start\" x=\"633\" y=\"-37.8\" font-family=\"Helvetica,sans-Serif\" font-size=\"14.00\" fill=\"#000000\">samples = 233</text>\n<text text-anchor=\"start\" x=\"627\" y=\"-22.8\" font-family=\"Helvetica,sans-Serif\" font-size=\"14.00\" fill=\"#000000\">value = [52, 181]</text>\n<text text-anchor=\"start\" x=\"652\" y=\"-7.8\" font-family=\"Helvetica,sans-Serif\" font-size=\"14.00\" fill=\"#000000\">class = 1</text>\n</g>\n<!-- 12&#45;&gt;14 -->\n<g id=\"edge14\" class=\"edge\">\n<title>12&#45;&gt;14</title>\n<path fill=\"none\" stroke=\"#000000\" d=\"M681,-103.9815C681,-95.618 681,-86.7965 681,-78.3409\"/>\n<polygon fill=\"#000000\" stroke=\"#000000\" points=\"684.5001,-78.2636 681,-68.2637 677.5001,-78.2637 684.5001,-78.2636\"/>\n</g>\n<!-- 16 -->\n<g id=\"node17\" class=\"node\">\n<title>16</title>\n<path fill=\"#e5833d\" stroke=\"#000000\" d=\"M865,-68C865,-68 773,-68 773,-68 767,-68 761,-62 761,-56 761,-56 761,-12 761,-12 761,-6 767,0 773,0 773,0 865,0 865,0 871,0 877,-6 877,-12 877,-12 877,-56 877,-56 877,-62 871,-68 865,-68\"/>\n<text text-anchor=\"start\" x=\"781\" y=\"-52.8\" font-family=\"Helvetica,sans-Serif\" font-size=\"14.00\" fill=\"#000000\">gini = 0.035</text>\n<text text-anchor=\"start\" x=\"771\" y=\"-37.8\" font-family=\"Helvetica,sans-Serif\" font-size=\"14.00\" fill=\"#000000\">samples = 338</text>\n<text text-anchor=\"start\" x=\"769\" y=\"-22.8\" font-family=\"Helvetica,sans-Serif\" font-size=\"14.00\" fill=\"#000000\">value = [332, 6]</text>\n<text text-anchor=\"start\" x=\"790\" y=\"-7.8\" font-family=\"Helvetica,sans-Serif\" font-size=\"14.00\" fill=\"#000000\">class = 0</text>\n</g>\n<!-- 15&#45;&gt;16 -->\n<g id=\"edge16\" class=\"edge\">\n<title>15&#45;&gt;16</title>\n<path fill=\"none\" stroke=\"#000000\" d=\"M821.5105,-103.9815C821.2105,-95.618 820.894,-86.7965 820.5907,-78.3409\"/>\n<polygon fill=\"#000000\" stroke=\"#000000\" points=\"824.0855,-78.1317 820.2292,-68.2637 817.09,-78.3828 824.0855,-78.1317\"/>\n</g>\n<!-- 17 -->\n<g id=\"node18\" class=\"node\">\n<title>17</title>\n<path fill=\"#399de5\" stroke=\"#000000\" d=\"M982.5,-68C982.5,-68 907.5,-68 907.5,-68 901.5,-68 895.5,-62 895.5,-56 895.5,-56 895.5,-12 895.5,-12 895.5,-6 901.5,0 907.5,0 907.5,0 982.5,0 982.5,0 988.5,0 994.5,-6 994.5,-12 994.5,-12 994.5,-56 994.5,-56 994.5,-62 988.5,-68 982.5,-68\"/>\n<text text-anchor=\"start\" x=\"915.5\" y=\"-52.8\" font-family=\"Helvetica,sans-Serif\" font-size=\"14.00\" fill=\"#000000\">gini = 0.0</text>\n<text text-anchor=\"start\" x=\"905.5\" y=\"-37.8\" font-family=\"Helvetica,sans-Serif\" font-size=\"14.00\" fill=\"#000000\">samples = 2</text>\n<text text-anchor=\"start\" x=\"903.5\" y=\"-22.8\" font-family=\"Helvetica,sans-Serif\" font-size=\"14.00\" fill=\"#000000\">value = [0, 2]</text>\n<text text-anchor=\"start\" x=\"916\" y=\"-7.8\" font-family=\"Helvetica,sans-Serif\" font-size=\"14.00\" fill=\"#000000\">class = 1</text>\n</g>\n<!-- 15&#45;&gt;17 -->\n<g id=\"edge17\" class=\"edge\">\n<title>15&#45;&gt;17</title>\n<path fill=\"none\" stroke=\"#000000\" d=\"M868.4283,-103.9815C878.7861,-94.5151 889.7859,-84.462 900.1206,-75.0168\"/>\n<polygon fill=\"#000000\" stroke=\"#000000\" points=\"902.4893,-77.5935 907.5097,-68.2637 897.7669,-72.4264 902.4893,-77.5935\"/>\n</g>\n<!-- 19 -->\n<g id=\"node20\" class=\"node\">\n<title>19</title>\n<path fill=\"#7cbeee\" stroke=\"#000000\" d=\"M1192,-187C1192,-187 1084,-187 1084,-187 1078,-187 1072,-181 1072,-175 1072,-175 1072,-116 1072,-116 1072,-110 1078,-104 1084,-104 1084,-104 1192,-104 1192,-104 1198,-104 1204,-110 1204,-116 1204,-116 1204,-175 1204,-175 1204,-181 1198,-187 1192,-187\"/>\n<text text-anchor=\"start\" x=\"1092.5\" y=\"-171.8\" font-family=\"Helvetica,sans-Serif\" font-size=\"14.00\" fill=\"#000000\">X_11 ≤ &#45;0.336</text>\n<text text-anchor=\"start\" x=\"1100\" y=\"-156.8\" font-family=\"Helvetica,sans-Serif\" font-size=\"14.00\" fill=\"#000000\">gini = 0.376</text>\n<text text-anchor=\"start\" x=\"1090\" y=\"-141.8\" font-family=\"Helvetica,sans-Serif\" font-size=\"14.00\" fill=\"#000000\">samples = 847</text>\n<text text-anchor=\"start\" x=\"1080\" y=\"-126.8\" font-family=\"Helvetica,sans-Serif\" font-size=\"14.00\" fill=\"#000000\">value = [213, 634]</text>\n<text text-anchor=\"start\" x=\"1109\" y=\"-111.8\" font-family=\"Helvetica,sans-Serif\" font-size=\"14.00\" fill=\"#000000\">class = 1</text>\n</g>\n<!-- 18&#45;&gt;19 -->\n<g id=\"edge19\" class=\"edge\">\n<title>18&#45;&gt;19</title>\n<path fill=\"none\" stroke=\"#000000\" d=\"M1138,-222.8796C1138,-214.6838 1138,-205.9891 1138,-197.5013\"/>\n<polygon fill=\"#000000\" stroke=\"#000000\" points=\"1141.5001,-197.298 1138,-187.2981 1134.5001,-197.2981 1141.5001,-197.298\"/>\n</g>\n<!-- 22 -->\n<g id=\"node23\" class=\"node\">\n<title>22</title>\n<path fill=\"#46a3e7\" stroke=\"#000000\" d=\"M1401,-187C1401,-187 1293,-187 1293,-187 1287,-187 1281,-181 1281,-175 1281,-175 1281,-116 1281,-116 1281,-110 1287,-104 1293,-104 1293,-104 1401,-104 1401,-104 1407,-104 1413,-110 1413,-116 1413,-116 1413,-175 1413,-175 1413,-181 1407,-187 1401,-187\"/>\n<text text-anchor=\"start\" x=\"1303.5\" y=\"-171.8\" font-family=\"Helvetica,sans-Serif\" font-size=\"14.00\" fill=\"#000000\">X_11 ≤ 0.472</text>\n<text text-anchor=\"start\" x=\"1309\" y=\"-156.8\" font-family=\"Helvetica,sans-Serif\" font-size=\"14.00\" fill=\"#000000\">gini = 0.113</text>\n<text text-anchor=\"start\" x=\"1295\" y=\"-141.8\" font-family=\"Helvetica,sans-Serif\" font-size=\"14.00\" fill=\"#000000\">samples = 1267</text>\n<text text-anchor=\"start\" x=\"1289\" y=\"-126.8\" font-family=\"Helvetica,sans-Serif\" font-size=\"14.00\" fill=\"#000000\">value = [76, 1191]</text>\n<text text-anchor=\"start\" x=\"1318\" y=\"-111.8\" font-family=\"Helvetica,sans-Serif\" font-size=\"14.00\" fill=\"#000000\">class = 1</text>\n</g>\n<!-- 18&#45;&gt;22 -->\n<g id=\"edge22\" class=\"edge\">\n<title>18&#45;&gt;22</title>\n<path fill=\"none\" stroke=\"#000000\" d=\"M1208.1754,-224.5437C1228.7206,-212.8457 1251.2572,-200.0139 1272.085,-188.155\"/>\n<polygon fill=\"#000000\" stroke=\"#000000\" points=\"1273.9374,-191.1278 1280.8958,-183.1383 1270.4738,-185.0448 1273.9374,-191.1278\"/>\n</g>\n<!-- 20 -->\n<g id=\"node21\" class=\"node\">\n<title>20</title>\n<path fill=\"#65b3eb\" stroke=\"#000000\" d=\"M1133,-68C1133,-68 1025,-68 1025,-68 1019,-68 1013,-62 1013,-56 1013,-56 1013,-12 1013,-12 1013,-6 1019,0 1025,0 1025,0 1133,0 1133,0 1139,0 1145,-6 1145,-12 1145,-12 1145,-56 1145,-56 1145,-62 1139,-68 1133,-68\"/>\n<text text-anchor=\"start\" x=\"1041\" y=\"-52.8\" font-family=\"Helvetica,sans-Serif\" font-size=\"14.00\" fill=\"#000000\">gini = 0.298</text>\n<text text-anchor=\"start\" x=\"1031\" y=\"-37.8\" font-family=\"Helvetica,sans-Serif\" font-size=\"14.00\" fill=\"#000000\">samples = 773</text>\n<text text-anchor=\"start\" x=\"1021\" y=\"-22.8\" font-family=\"Helvetica,sans-Serif\" font-size=\"14.00\" fill=\"#000000\">value = [141, 632]</text>\n<text text-anchor=\"start\" x=\"1050\" y=\"-7.8\" font-family=\"Helvetica,sans-Serif\" font-size=\"14.00\" fill=\"#000000\">class = 1</text>\n</g>\n<!-- 19&#45;&gt;20 -->\n<g id=\"edge20\" class=\"edge\">\n<title>19&#45;&gt;20</title>\n<path fill=\"none\" stroke=\"#000000\" d=\"M1116.0306,-103.9815C1111.4105,-95.2504 1106.5264,-86.0202 1101.874,-77.2281\"/>\n<polygon fill=\"#000000\" stroke=\"#000000\" points=\"1104.9013,-75.4655 1097.1306,-68.2637 1098.7141,-78.7395 1104.9013,-75.4655\"/>\n</g>\n<!-- 21 -->\n<g id=\"node22\" class=\"node\">\n<title>21</title>\n<path fill=\"#e6843e\" stroke=\"#000000\" d=\"M1258.5,-68C1258.5,-68 1175.5,-68 1175.5,-68 1169.5,-68 1163.5,-62 1163.5,-56 1163.5,-56 1163.5,-12 1163.5,-12 1163.5,-6 1169.5,0 1175.5,0 1175.5,0 1258.5,0 1258.5,0 1264.5,0 1270.5,-6 1270.5,-12 1270.5,-12 1270.5,-56 1270.5,-56 1270.5,-62 1264.5,-68 1258.5,-68\"/>\n<text text-anchor=\"start\" x=\"1179\" y=\"-52.8\" font-family=\"Helvetica,sans-Serif\" font-size=\"14.00\" fill=\"#000000\">gini = 0.053</text>\n<text text-anchor=\"start\" x=\"1173\" y=\"-37.8\" font-family=\"Helvetica,sans-Serif\" font-size=\"14.00\" fill=\"#000000\">samples = 74</text>\n<text text-anchor=\"start\" x=\"1171.5\" y=\"-22.8\" font-family=\"Helvetica,sans-Serif\" font-size=\"14.00\" fill=\"#000000\">value = [72, 2]</text>\n<text text-anchor=\"start\" x=\"1188\" y=\"-7.8\" font-family=\"Helvetica,sans-Serif\" font-size=\"14.00\" fill=\"#000000\">class = 0</text>\n</g>\n<!-- 19&#45;&gt;21 -->\n<g id=\"edge21\" class=\"edge\">\n<title>19&#45;&gt;21</title>\n<path fill=\"none\" stroke=\"#000000\" d=\"M1167.4167,-103.9815C1173.7331,-95.0666 1180.4182,-85.6313 1186.7651,-76.6734\"/>\n<polygon fill=\"#000000\" stroke=\"#000000\" points=\"1189.7981,-78.4466 1192.7235,-68.2637 1184.0864,-74.3998 1189.7981,-78.4466\"/>\n</g>\n<!-- 23 -->\n<g id=\"node24\" class=\"node\">\n<title>23</title>\n<path fill=\"#399de5\" stroke=\"#000000\" d=\"M1393,-68C1393,-68 1301,-68 1301,-68 1295,-68 1289,-62 1289,-56 1289,-56 1289,-12 1289,-12 1289,-6 1295,0 1301,0 1301,0 1393,0 1393,0 1399,0 1405,-6 1405,-12 1405,-12 1405,-56 1405,-56 1405,-62 1399,-68 1393,-68\"/>\n<text text-anchor=\"start\" x=\"1317.5\" y=\"-52.8\" font-family=\"Helvetica,sans-Serif\" font-size=\"14.00\" fill=\"#000000\">gini = 0.0</text>\n<text text-anchor=\"start\" x=\"1299\" y=\"-37.8\" font-family=\"Helvetica,sans-Serif\" font-size=\"14.00\" fill=\"#000000\">samples = 702</text>\n<text text-anchor=\"start\" x=\"1297\" y=\"-22.8\" font-family=\"Helvetica,sans-Serif\" font-size=\"14.00\" fill=\"#000000\">value = [0, 702]</text>\n<text text-anchor=\"start\" x=\"1318\" y=\"-7.8\" font-family=\"Helvetica,sans-Serif\" font-size=\"14.00\" fill=\"#000000\">class = 1</text>\n</g>\n<!-- 22&#45;&gt;23 -->\n<g id=\"edge23\" class=\"edge\">\n<title>22&#45;&gt;23</title>\n<path fill=\"none\" stroke=\"#000000\" d=\"M1347,-103.9815C1347,-95.618 1347,-86.7965 1347,-78.3409\"/>\n<polygon fill=\"#000000\" stroke=\"#000000\" points=\"1350.5001,-78.2636 1347,-68.2637 1343.5001,-78.2637 1350.5001,-78.2636\"/>\n</g>\n<!-- 24 -->\n<g id=\"node25\" class=\"node\">\n<title>24</title>\n<path fill=\"#58ace9\" stroke=\"#000000\" d=\"M1535,-68C1535,-68 1435,-68 1435,-68 1429,-68 1423,-62 1423,-56 1423,-56 1423,-12 1423,-12 1423,-6 1429,0 1435,0 1435,0 1535,0 1535,0 1541,0 1547,-6 1547,-12 1547,-12 1547,-56 1547,-56 1547,-62 1541,-68 1535,-68\"/>\n<text text-anchor=\"start\" x=\"1447\" y=\"-52.8\" font-family=\"Helvetica,sans-Serif\" font-size=\"14.00\" fill=\"#000000\">gini = 0.233</text>\n<text text-anchor=\"start\" x=\"1437\" y=\"-37.8\" font-family=\"Helvetica,sans-Serif\" font-size=\"14.00\" fill=\"#000000\">samples = 565</text>\n<text text-anchor=\"start\" x=\"1431\" y=\"-22.8\" font-family=\"Helvetica,sans-Serif\" font-size=\"14.00\" fill=\"#000000\">value = [76, 489]</text>\n<text text-anchor=\"start\" x=\"1456\" y=\"-7.8\" font-family=\"Helvetica,sans-Serif\" font-size=\"14.00\" fill=\"#000000\">class = 1</text>\n</g>\n<!-- 22&#45;&gt;24 -->\n<g id=\"edge24\" class=\"edge\">\n<title>22&#45;&gt;24</title>\n<path fill=\"none\" stroke=\"#000000\" d=\"M1398.3861,-103.9815C1410.2161,-94.4232 1422.7864,-84.2668 1434.5751,-74.7419\"/>\n<polygon fill=\"#000000\" stroke=\"#000000\" points=\"1437.0142,-77.2708 1442.5929,-68.2637 1432.6149,-71.826 1437.0142,-77.2708\"/>\n</g>\n</g>\n</svg>\n"
          },
          "metadata": {
            "tags": []
          },
          "execution_count": 160
        }
      ]
    },
    {
      "cell_type": "code",
      "metadata": {
        "id": "DEAYSL3vYtyf",
        "colab_type": "code",
        "colab": {
          "base_uri": "https://localhost:8080/",
          "height": 34
        },
        "outputId": "e84cbc69-2b2b-462c-d926-3a9557f22f11"
      },
      "source": [
        "graph.render(\"server_mal\")"
      ],
      "execution_count": 161,
      "outputs": [
        {
          "output_type": "execute_result",
          "data": {
            "text/plain": [
              "'server_mal.pdf'"
            ]
          },
          "metadata": {
            "tags": []
          },
          "execution_count": 161
        }
      ]
    },
    {
      "cell_type": "markdown",
      "metadata": {
        "id": "TLfU8DFDQw41",
        "colab_type": "text"
      },
      "source": [
        "According the decision tree the most important features are `X_10`, `X_11`, `X_12` and `X_15`."
      ]
    },
    {
      "cell_type": "markdown",
      "metadata": {
        "id": "dQ-lD0b26Yka",
        "colab_type": "text"
      },
      "source": [
        "## Prediction on test data"
      ]
    },
    {
      "cell_type": "code",
      "metadata": {
        "id": "Qs-evUC06dPp",
        "colab_type": "code",
        "colab": {
          "base_uri": "https://localhost:8080/",
          "height": 233
        },
        "outputId": "470a363d-3689-4fc7-dae2-aa756fb3a94c"
      },
      "source": [
        "test_data = pd.read_csv(DATA_PATH/'Test.csv', index_col=0)\n",
        "test_data.head()"
      ],
      "execution_count": 150,
      "outputs": [
        {
          "output_type": "execute_result",
          "data": {
            "text/html": [
              "<div>\n",
              "<style scoped>\n",
              "    .dataframe tbody tr th:only-of-type {\n",
              "        vertical-align: middle;\n",
              "    }\n",
              "\n",
              "    .dataframe tbody tr th {\n",
              "        vertical-align: top;\n",
              "    }\n",
              "\n",
              "    .dataframe thead th {\n",
              "        text-align: right;\n",
              "    }\n",
              "</style>\n",
              "<table border=\"1\" class=\"dataframe\">\n",
              "  <thead>\n",
              "    <tr style=\"text-align: right;\">\n",
              "      <th></th>\n",
              "      <th>DATE</th>\n",
              "      <th>X_1</th>\n",
              "      <th>X_2</th>\n",
              "      <th>X_3</th>\n",
              "      <th>X_4</th>\n",
              "      <th>X_5</th>\n",
              "      <th>X_6</th>\n",
              "      <th>X_7</th>\n",
              "      <th>X_8</th>\n",
              "      <th>X_9</th>\n",
              "      <th>X_10</th>\n",
              "      <th>X_11</th>\n",
              "      <th>X_12</th>\n",
              "      <th>X_13</th>\n",
              "      <th>X_14</th>\n",
              "      <th>X_15</th>\n",
              "    </tr>\n",
              "    <tr>\n",
              "      <th>INCIDENT_ID</th>\n",
              "      <th></th>\n",
              "      <th></th>\n",
              "      <th></th>\n",
              "      <th></th>\n",
              "      <th></th>\n",
              "      <th></th>\n",
              "      <th></th>\n",
              "      <th></th>\n",
              "      <th></th>\n",
              "      <th></th>\n",
              "      <th></th>\n",
              "      <th></th>\n",
              "      <th></th>\n",
              "      <th></th>\n",
              "      <th></th>\n",
              "      <th></th>\n",
              "    </tr>\n",
              "  </thead>\n",
              "  <tbody>\n",
              "    <tr>\n",
              "      <th>CR_195453</th>\n",
              "      <td>01-FEB-18</td>\n",
              "      <td>0</td>\n",
              "      <td>30</td>\n",
              "      <td>35</td>\n",
              "      <td>7</td>\n",
              "      <td>3</td>\n",
              "      <td>6</td>\n",
              "      <td>4</td>\n",
              "      <td>0</td>\n",
              "      <td>5</td>\n",
              "      <td>1</td>\n",
              "      <td>174</td>\n",
              "      <td>NaN</td>\n",
              "      <td>72</td>\n",
              "      <td>119</td>\n",
              "      <td>23</td>\n",
              "    </tr>\n",
              "    <tr>\n",
              "      <th>CR_103520</th>\n",
              "      <td>05-MAR-04</td>\n",
              "      <td>0</td>\n",
              "      <td>44</td>\n",
              "      <td>44</td>\n",
              "      <td>1</td>\n",
              "      <td>3</td>\n",
              "      <td>7</td>\n",
              "      <td>1</td>\n",
              "      <td>4</td>\n",
              "      <td>6</td>\n",
              "      <td>1</td>\n",
              "      <td>316</td>\n",
              "      <td>0.0</td>\n",
              "      <td>12</td>\n",
              "      <td>29</td>\n",
              "      <td>34</td>\n",
              "    </tr>\n",
              "    <tr>\n",
              "      <th>CR_196089</th>\n",
              "      <td>27-JAN-18</td>\n",
              "      <td>0</td>\n",
              "      <td>34</td>\n",
              "      <td>33</td>\n",
              "      <td>3</td>\n",
              "      <td>5</td>\n",
              "      <td>2</td>\n",
              "      <td>7</td>\n",
              "      <td>3</td>\n",
              "      <td>0</td>\n",
              "      <td>1</td>\n",
              "      <td>316</td>\n",
              "      <td>1.0</td>\n",
              "      <td>72</td>\n",
              "      <td>0</td>\n",
              "      <td>34</td>\n",
              "    </tr>\n",
              "    <tr>\n",
              "      <th>CR_112195</th>\n",
              "      <td>18-AUG-06</td>\n",
              "      <td>7</td>\n",
              "      <td>3</td>\n",
              "      <td>2</td>\n",
              "      <td>3</td>\n",
              "      <td>5</td>\n",
              "      <td>9</td>\n",
              "      <td>8</td>\n",
              "      <td>0</td>\n",
              "      <td>5</td>\n",
              "      <td>1</td>\n",
              "      <td>174</td>\n",
              "      <td>1.0</td>\n",
              "      <td>112</td>\n",
              "      <td>87</td>\n",
              "      <td>34</td>\n",
              "    </tr>\n",
              "    <tr>\n",
              "      <th>CR_149832</th>\n",
              "      <td>31-OCT-11</td>\n",
              "      <td>0</td>\n",
              "      <td>7</td>\n",
              "      <td>8</td>\n",
              "      <td>7</td>\n",
              "      <td>3</td>\n",
              "      <td>2</td>\n",
              "      <td>7</td>\n",
              "      <td>1</td>\n",
              "      <td>5</td>\n",
              "      <td>1</td>\n",
              "      <td>174</td>\n",
              "      <td>0.0</td>\n",
              "      <td>112</td>\n",
              "      <td>93</td>\n",
              "      <td>43</td>\n",
              "    </tr>\n",
              "  </tbody>\n",
              "</table>\n",
              "</div>"
            ],
            "text/plain": [
              "                  DATE  X_1  X_2  X_3  X_4  ...  X_11  X_12  X_13  X_14  X_15\n",
              "INCIDENT_ID                                 ...                              \n",
              "CR_195453    01-FEB-18    0   30   35    7  ...   174   NaN    72   119    23\n",
              "CR_103520    05-MAR-04    0   44   44    1  ...   316   0.0    12    29    34\n",
              "CR_196089    27-JAN-18    0   34   33    3  ...   316   1.0    72     0    34\n",
              "CR_112195    18-AUG-06    7    3    2    3  ...   174   1.0   112    87    34\n",
              "CR_149832    31-OCT-11    0    7    8    7  ...   174   0.0   112    93    43\n",
              "\n",
              "[5 rows x 16 columns]"
            ]
          },
          "metadata": {
            "tags": []
          },
          "execution_count": 150
        }
      ]
    },
    {
      "cell_type": "markdown",
      "metadata": {
        "id": "wZK3HEOB6pGU",
        "colab_type": "text"
      },
      "source": [
        "We used only the logging parameters of the server to model the decision tree so we don't need other variables."
      ]
    },
    {
      "cell_type": "code",
      "metadata": {
        "id": "pifPhcoG68IX",
        "colab_type": "code",
        "colab": {}
      },
      "source": [
        "test_data.drop('DATE', axis='columns', inplace=True)"
      ],
      "execution_count": 0,
      "outputs": []
    },
    {
      "cell_type": "code",
      "metadata": {
        "id": "nITFEZjn7D_r",
        "colab_type": "code",
        "colab": {}
      },
      "source": [
        "y_pred = pipe.predict(test_data)"
      ],
      "execution_count": 0,
      "outputs": []
    },
    {
      "cell_type": "code",
      "metadata": {
        "id": "MTLUmNyZ7LWe",
        "colab_type": "code",
        "colab": {
          "base_uri": "https://localhost:8080/",
          "height": 202
        },
        "outputId": "5c1bba85-1248-4d27-e0af-601cb0b49e61"
      },
      "source": [
        "sub_df = pd.DataFrame(\n",
        "    {'INCIDENT_ID':test_data.index,\n",
        "     'MULTIPLE_OFFENSE':y_pred},\n",
        "     )\n",
        "sub_df.head()"
      ],
      "execution_count": 157,
      "outputs": [
        {
          "output_type": "execute_result",
          "data": {
            "text/html": [
              "<div>\n",
              "<style scoped>\n",
              "    .dataframe tbody tr th:only-of-type {\n",
              "        vertical-align: middle;\n",
              "    }\n",
              "\n",
              "    .dataframe tbody tr th {\n",
              "        vertical-align: top;\n",
              "    }\n",
              "\n",
              "    .dataframe thead th {\n",
              "        text-align: right;\n",
              "    }\n",
              "</style>\n",
              "<table border=\"1\" class=\"dataframe\">\n",
              "  <thead>\n",
              "    <tr style=\"text-align: right;\">\n",
              "      <th></th>\n",
              "      <th>INCIDENT_ID</th>\n",
              "      <th>MULTIPLE_OFFENSE</th>\n",
              "    </tr>\n",
              "  </thead>\n",
              "  <tbody>\n",
              "    <tr>\n",
              "      <th>0</th>\n",
              "      <td>CR_195453</td>\n",
              "      <td>1</td>\n",
              "    </tr>\n",
              "    <tr>\n",
              "      <th>1</th>\n",
              "      <td>CR_103520</td>\n",
              "      <td>1</td>\n",
              "    </tr>\n",
              "    <tr>\n",
              "      <th>2</th>\n",
              "      <td>CR_196089</td>\n",
              "      <td>1</td>\n",
              "    </tr>\n",
              "    <tr>\n",
              "      <th>3</th>\n",
              "      <td>CR_112195</td>\n",
              "      <td>1</td>\n",
              "    </tr>\n",
              "    <tr>\n",
              "      <th>4</th>\n",
              "      <td>CR_149832</td>\n",
              "      <td>1</td>\n",
              "    </tr>\n",
              "  </tbody>\n",
              "</table>\n",
              "</div>"
            ],
            "text/plain": [
              "  INCIDENT_ID  MULTIPLE_OFFENSE\n",
              "0   CR_195453                 1\n",
              "1   CR_103520                 1\n",
              "2   CR_196089                 1\n",
              "3   CR_112195                 1\n",
              "4   CR_149832                 1"
            ]
          },
          "metadata": {
            "tags": []
          },
          "execution_count": 157
        }
      ]
    },
    {
      "cell_type": "code",
      "metadata": {
        "id": "k7cI_Q_x8JsN",
        "colab_type": "code",
        "colab": {}
      },
      "source": [
        "sub_df.to_csv('submission_df.csv', index=False)"
      ],
      "execution_count": 0,
      "outputs": []
    },
    {
      "cell_type": "markdown",
      "metadata": {
        "id": "qu1PhPGV8eKI",
        "colab_type": "text"
      },
      "source": [
        "This submission scored a decent `85` (recall) on the test set, but it can be improved further."
      ]
    },
    {
      "cell_type": "markdown",
      "metadata": {
        "id": "FzX-yGYMYYVe",
        "colab_type": "text"
      },
      "source": [
        "## Model Persistence"
      ]
    },
    {
      "cell_type": "code",
      "metadata": {
        "id": "pDrWaFv-Y03Z",
        "colab_type": "code",
        "colab": {
          "base_uri": "https://localhost:8080/",
          "height": 121
        },
        "outputId": "931f9d8e-9637-4250-919c-e0c2570f7a99"
      },
      "source": [
        "!pip list | egrep 'scikit-learn|pandas'"
      ],
      "execution_count": 26,
      "outputs": [
        {
          "output_type": "stream",
          "text": [
            "pandas                   1.0.4          \n",
            "pandas-datareader        0.8.1          \n",
            "pandas-gbq               0.11.0         \n",
            "pandas-profiling         1.4.1          \n",
            "scikit-learn             0.22.2.post1   \n",
            "sklearn-pandas           1.8.0          \n"
          ],
          "name": "stdout"
        }
      ]
    },
    {
      "cell_type": "code",
      "metadata": {
        "id": "yWZxhQaBS3re",
        "colab_type": "code",
        "colab": {}
      },
      "source": [
        "import joblib\n",
        "\n",
        "with open('desc_pipeline.joblib', 'wb') as f:joblib.dump(pipe, f)"
      ],
      "execution_count": 0,
      "outputs": []
    },
    {
      "cell_type": "code",
      "metadata": {
        "id": "CUDyNxkK0RjI",
        "colab_type": "code",
        "colab": {
          "base_uri": "https://localhost:8080/",
          "height": 52
        },
        "outputId": "d839facd-695e-48b3-efbc-95954295e169"
      },
      "source": [
        "!zip eda_model_interp.zip server_mal.pdf desc_pipeline.joblib"
      ],
      "execution_count": 163,
      "outputs": [
        {
          "output_type": "stream",
          "text": [
            "updating: server_mal.pdf (deflated 8%)\n",
            "updating: desc_pipeline.joblib (deflated 48%)\n"
          ],
          "name": "stdout"
        }
      ]
    },
    {
      "cell_type": "code",
      "metadata": {
        "id": "owXgyp6-9XPz",
        "colab_type": "code",
        "colab": {}
      },
      "source": [
        ""
      ],
      "execution_count": 0,
      "outputs": []
    }
  ]
}
